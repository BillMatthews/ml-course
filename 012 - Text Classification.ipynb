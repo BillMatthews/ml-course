{
 "cells": [
  {
   "cell_type": "markdown",
   "metadata": {},
   "source": [
    "# Text Classification using Embeddings\n",
    "In this workbook we will take textual data and attempt to make a prediction about the text.\n",
    "\n",
    "Specifically we will be tacking __Sentiment Analysis__ which is analysis to decide if text has a positive or negative Sentiment. However, we shouldn't get too hung-up on the positive/negative aspect of this classification, with suitable data we could easily use the ideas in this workbook to:\n",
    "- Detect Irony in text\n",
    "- Group text by topic\n",
    "- Identify toxic comments post\n",
    "\n",
    "We will in this workbook and the next two be using a standard dataset of IMDB Movie Reviews that have been hand classified as either Postive or Negative reviews."
   ]
  },
  {
   "cell_type": "markdown",
   "metadata": {},
   "source": [
    "# Importing some packages\n",
    "We are using the Python programming language and a set of Machine Learning packages - Importing packages for use is a common task. For this workshop you don't really need to pay that much attention to this step (but you do need to execute the cell) since we are focusing on building models. However the following is a description of what this cell does that you can read if you are interested.\n",
    "\n",
    "### Description of imports (Optional)\n",
    "You don't need to worry about this code as this is not the focus on the workshop but if you are interested in what this next cell does, here is an explaination.\n",
    "\n",
    "|Statement|Meaning|\n",
    "|---|---|\n",
    "|__import tensorflow as tf__ |Tensorflow (from Google) is our main machine learning library and we performs all of the various calculations for us and so hides much of the detailed complexity in Machine Learning. This _import_ statement makes the power of TensorFlow available to us and for convience we will refer to it as __tf__ |\n",
    "|__from tensorflow import keras__ |Tensorflow is quite a low level machine learning library which, while powerful and flexible can be confusing so instead we use another higher level framework called Keras to make our machine learning models more readable and easier to build and test. This _import_ statement makes the Keras framework available to us.|\n",
    "|__import numpy as np__ |Numpy is a Python library for scientific computing and is commonly used for machine learning. This _import_ statement makes the Keras framework available to us.|\n",
    "|__import matplotlib.pyplot as plt__ |To visualise what is happening in our network we will use a set of graphs and MatPlotLib is the standard Python library for producing Graphs so we __import__ this to enable us to make pretty graphs.|\n",
    "|__%matplotlib inline__| this is a Jupyter Notebook __magic__ commmand that tells the workbook to produce any graphs as part of the workbook and not as pop-up window.|"
   ]
  },
  {
   "cell_type": "code",
   "execution_count": 18,
   "metadata": {},
   "outputs": [
    {
     "name": "stdout",
     "output_type": "stream",
     "text": [
      "2.0.0-beta1\n"
     ]
    }
   ],
   "source": [
    "from __future__ import absolute_import, division, print_function, unicode_literals\n",
    "\n",
    "import tensorflow as tf\n",
    "from tensorflow import keras\n",
    "\n",
    "import numpy as np\n",
    "\n",
    "print(tf.__version__)\n",
    "%matplotlib inline"
   ]
  },
  {
   "cell_type": "markdown",
   "metadata": {},
   "source": [
    "## Helper functions\n",
    "The following cell contains a set of helper functions that makes our models a little clearer. We will not be going through these functions (since they require Python knowlege) so just make sure you have run this cell."
   ]
  },
  {
   "cell_type": "code",
   "execution_count": 19,
   "metadata": {},
   "outputs": [],
   "source": [
    "def printLossAndAccuracy(history):\n",
    "  import matplotlib.pyplot as plt\n",
    "  history_dict = history.history\n",
    "\n",
    "  acc = history_dict['acc']\n",
    "  val_acc = history_dict['val_acc']\n",
    "  loss = history_dict['loss']\n",
    "  val_loss = history_dict['val_loss']\n",
    "\n",
    "  epochs = range(1, len(acc) + 1)\n",
    "\n",
    "  # \"bo\" is for \"blue dot\"\n",
    "  plt.plot(epochs, loss, 'bo', label='Training loss')\n",
    "  # b is for \"solid blue line\"\n",
    "  plt.plot(epochs, val_loss, 'b', label='Validation loss')\n",
    "  plt.title('Training and validation loss')\n",
    "  plt.xlabel('Epochs')\n",
    "  plt.ylabel('Loss')\n",
    "  plt.legend()\n",
    "  \n",
    "  plt.show()\n",
    "\n",
    "  plt.clf()   # clear figure\n",
    "\n",
    "  plt.plot(epochs, acc, 'bo', label='Training acc')\n",
    "  plt.plot(epochs, val_acc, 'b', label='Validation acc')\n",
    "  plt.title('Training and validation accuracy')\n",
    "  plt.xlabel('Epochs')\n",
    "  plt.ylabel('Accuracy')\n",
    "  plt.legend()\n",
    "\n",
    "\n",
    "  plt.show()\n",
    "\n",
    "def predictStarRating(review, model, word_index):\n",
    "      encoded_review = [encodeReview(review, word_index)]\n",
    "      sequence = keras.preprocessing.sequence.pad_sequences(encoded_review,\n",
    "                                                      value=word_index[\"<PAD>\"],\n",
    "                                                      padding='post',\n",
    "                                                      maxlen=256)\n",
    "      prediction = model.predict(sequence)\n",
    "      if prediction >= 0.9:\n",
    "          return \"5 Stars\"\n",
    "      if prediction >= 0.7:\n",
    "          return \"4 Stars\"\n",
    "      if prediction >= 0.5:\n",
    "          return \"3 Stars\"\n",
    "      if prediction >= 0.3:\n",
    "              return \"2 Stars\"\n",
    "      return \"1 Star\"\n",
    "      \n",
    "\n",
    "def getWordIndex(corpus):\n",
    "  word_index = corpus.get_word_index()\n",
    "\n",
    "  # The first indices are reserved\n",
    "  word_index = {k:(v+3) for k,v in word_index.items()}\n",
    "  word_index[\"<PAD>\"] = 0\n",
    "  word_index[\"<START>\"] = 1\n",
    "  word_index[\"<UNK>\"] = 2  # unknown\n",
    "  word_index[\"<UNUSED>\"] = 3\n",
    "\n",
    "  reverse_word_index = dict([(value, key) for (key, value) in word_index.items()])  \n",
    "\n",
    "  return word_index, reverse_word_index\n",
    "\n",
    "def decodeReview(text, reverse_word_index):\n",
    "    return ' '.join([reverse_word_index.get(i, '?') for i in text])\n",
    "\n",
    "def encodeReview(text, word_index):\n",
    "  remove_words = [\"!\", \"$\", \"%\", \"&\", \"*\", \".\", \"?\", \"<\", \">\", \",\"]  \n",
    "  for word in remove_words:\n",
    "      text = text.replace(word, \"\")\n",
    "  \n",
    "  return [word_index[token] if token in word_index else 2 for token in text.lower().split(\" \")]\n"
   ]
  },
  {
   "cell_type": "markdown",
   "metadata": {},
   "source": [
    "# Load the Dataset\n",
    "In this lesson we will be using a Standard Text Database called the IMDB Reviews Database. This contains a large number of reviews from the Internet Movie Database site about a range of films.\n",
    "\n",
    "This is a standard dataset used in Machine Learning for Natural Language Processing and _Keras_ provides us with easy access to this data. Each Movie Review has a Sentiment attached either Positive or Negative. We want to train a Classifer to estimate whether it things a provide review is Positive or Negative or some where in between.\n",
    "\n",
    "Similar to when we used the MNIST datasets, Keras provides an easy means to load the data and has pre-tokenised the data."
   ]
  },
  {
   "cell_type": "code",
   "execution_count": 20,
   "metadata": {},
   "outputs": [
    {
     "name": "stdout",
     "output_type": "stream",
     "text": [
      "Training entries: 25000, labels: 25000\n"
     ]
    }
   ],
   "source": [
    "# Load the data\n",
    "imdb = keras.datasets.imdb\n",
    "\n",
    "(train_data, train_labels), (test_data, test_labels) = imdb.load_data(num_words=10000)\n",
    "print(\"Training entries: {}, labels: {}\".format(len(train_data), len(train_labels)))\n",
    "# A dictionary mapping words to an integer index\n",
    "word_index, reverse_word_index = getWordIndex(imdb)"
   ]
  },
  {
   "cell_type": "markdown",
   "metadata": {},
   "source": [
    "## Let's look at a review\n",
    "The IMDB dataset in Keras is already pre-encoded and ready for use. So we can print out a review as the Computer will work with it and then decode this to show the human readable review"
   ]
  },
  {
   "cell_type": "code",
   "execution_count": 21,
   "metadata": {},
   "outputs": [
    {
     "name": "stdout",
     "output_type": "stream",
     "text": [
      "Machine Readable Review: \n",
      "[1, 14, 22, 16, 43, 530, 973, 1622, 1385, 65, 458, 4468, 66, 3941, 4, 173, 36, 256, 5, 25, 100, 43, 838, 112, 50, 670, 2, 9, 35, 480, 284, 5, 150, 4, 172, 112, 167, 2, 336, 385, 39, 4, 172, 4536, 1111, 17, 546, 38, 13, 447, 4, 192, 50, 16, 6, 147, 2025, 19, 14, 22, 4, 1920, 4613, 469, 4, 22, 71, 87, 12, 16, 43, 530, 38, 76, 15, 13, 1247, 4, 22, 17, 515, 17, 12, 16, 626, 18, 2, 5, 62, 386, 12, 8, 316, 8, 106, 5, 4, 2223, 5244, 16, 480, 66, 3785, 33, 4, 130, 12, 16, 38, 619, 5, 25, 124, 51, 36, 135, 48, 25, 1415, 33, 6, 22, 12, 215, 28, 77, 52, 5, 14, 407, 16, 82, 2, 8, 4, 107, 117, 5952, 15, 256, 4, 2, 7, 3766, 5, 723, 36, 71, 43, 530, 476, 26, 400, 317, 46, 7, 4, 2, 1029, 13, 104, 88, 4, 381, 15, 297, 98, 32, 2071, 56, 26, 141, 6, 194, 7486, 18, 4, 226, 22, 21, 134, 476, 26, 480, 5, 144, 30, 5535, 18, 51, 36, 28, 224, 92, 25, 104, 4, 226, 65, 16, 38, 1334, 88, 12, 16, 283, 5, 16, 4472, 113, 103, 32, 15, 16, 5345, 19, 178, 32]\n"
     ]
    }
   ],
   "source": [
    "print(\"Machine Readable Review: \\n{}\".format(train_data[0]))"
   ]
  },
  {
   "cell_type": "code",
   "execution_count": 22,
   "metadata": {},
   "outputs": [
    {
     "name": "stdout",
     "output_type": "stream",
     "text": [
      "Human Readable Review: \n",
      "<START> this film was just brilliant casting location scenery story direction everyone's really suited the part they played and you could just imagine being there robert <UNK> is an amazing actor and now the same being director <UNK> father came from the same scottish island as myself so i loved the fact there was a real connection with this film the witty remarks throughout the film were great it was just brilliant so much that i bought the film as soon as it was released for <UNK> and would recommend it to everyone to watch and the fly fishing was amazing really cried at the end it was so sad and you know what they say if you cry at a film it must have been good and this definitely was also <UNK> to the two little boy's that played the <UNK> of norman and paul they were just brilliant children are often left out of the <UNK> list i think because the stars that play them all grown up are such a big profile for the whole film but these children are amazing and should be praised for what they have done don't you think the whole story was so lovely because it was true and was someone's life after all that was shared with us all\n"
     ]
    }
   ],
   "source": [
    "# A short review\n",
    "print(\"Human Readable Review: \\n{}\".format(decodeReview(train_data[0], reverse_word_index)))"
   ]
  },
  {
   "cell_type": "code",
   "execution_count": 23,
   "metadata": {},
   "outputs": [
    {
     "name": "stdout",
     "output_type": "stream",
     "text": [
      "Human Readable Review: \n",
      "<START> the <UNK> <UNK> at storytelling the traditional sort many years after the event i can still see in my <UNK> eye an elderly lady my friend's mother retelling the battle of <UNK> she makes the characters come alive her passion is that of an eye witness one to the events on the <UNK> heath a mile or so from where she lives br br of course it happened many years before she was born but you wouldn't guess from the way she tells it the same story is told in bars the length and <UNK> of scotland as i discussed it with a friend one night in <UNK> a local cut in to give his version the discussion continued to closing time br br stories passed down like this become part of our being who doesn't remember the stories our parents told us when we were children they become our invisible world and as we grow older they maybe still serve as inspiration or as an emotional <UNK> fact and fiction blend with <UNK> role models warning stories <UNK> magic and mystery br br my name is <UNK> like my grandfather and his grandfather before him our protagonist introduces himself to us and also introduces the story that stretches back through generations it produces stories within stories stories that evoke the <UNK> wonder of scotland its rugged mountains <UNK> in <UNK> the stuff of legend yet <UNK> is <UNK> in reality this is what gives it its special charm it has a rough beauty and authenticity <UNK> with some of the finest <UNK> singing you will ever hear br br <UNK> <UNK> visits his grandfather in hospital shortly before his death he burns with frustration part of him <UNK> to be in the twenty first century to hang out in <UNK> but he is raised on the western <UNK> among a <UNK> speaking community br br yet there is a deeper conflict within him he <UNK> to know the truth the truth behind his <UNK> ancient stories where does fiction end and he wants to know the truth behind the death of his parents br br he is pulled to make a last <UNK> journey to the <UNK> of one of <UNK> most <UNK> mountains can the truth be told or is it all in stories br br in this story about stories we <UNK> bloody battles <UNK> lovers the <UNK> of old and the sometimes more <UNK> <UNK> of accepted truth in doing so we each connect with <UNK> as he lives the story of his own life br br <UNK> the <UNK> <UNK> is probably the most honest <UNK> and genuinely beautiful film of scotland ever made like <UNK> i got slightly annoyed with the <UNK> of hanging stories on more stories but also like <UNK> i <UNK> this once i saw the <UNK> picture ' forget the box office <UNK> of braveheart and its like you might even <UNK> the <UNK> famous <UNK> of the wicker man to see a film that is true to scotland this one is probably unique if you maybe <UNK> on it deeply enough you might even re <UNK> the power of storytelling and the age old question of whether there are some truths that cannot be told but only experienced\n"
     ]
    }
   ],
   "source": [
    "# A longer review\n",
    "print(\"Human Readable Review: \\n{}\".format(decodeReview(train_data[3], reverse_word_index)))"
   ]
  },
  {
   "cell_type": "markdown",
   "metadata": {},
   "source": [
    "## Preprocessing Textual Data\n",
    "When we worked with Image data we performed Pre-Processing to make all the images the same size; this is because our model expect our data to be of pre-defined shape. We our model would not learn if our first sample is an image 28x28 and the second is 160x160. So we re-sized the images to a standard size.\n",
    "\n",
    "Our textual reviews are all of differing lengths and so we need to convert them into a standard size. In Natural Language Processing we call this __Padding__.\n",
    "\n",
    "_Keras_ makes padding very easy using the `keras.preprocessing.sequence.pad_sequences()` method. You can see full details of this method at https://keras.io/preprocessing/sequence/\n",
    "\n",
    "When we Pad sequences we need to specify:\n",
    "- the maximum length of the sequence\n",
    "- whether to truncate sequences at the start or the end of the sequence\n",
    "- whether to pad sequences at the start or the end of the sequence\n",
    "- The padding value to use to indicate the value is padding\n",
    "\n",
    "In the following step we will take our data and pad the sequence to 256 tokens(words)"
   ]
  },
  {
   "cell_type": "code",
   "execution_count": 24,
   "metadata": {},
   "outputs": [],
   "source": [
    "# We will limit our Reviews to the first 256 words and truncate any reviews that are longer than this\n",
    "max_words = 256\n",
    "\n",
    "# We will pad our Training  and Testing reviews so they are all 256 words long and truncate any that are longer\n",
    "# We will add any padding to the end of the sentence.\n",
    "train_data = keras.preprocessing.sequence.pad_sequences(train_data,\n",
    "                                                        value=word_index[\"<PAD>\"],\n",
    "                                                        padding='post',\n",
    "                                                        truncating='post',\n",
    "                                                        maxlen=max_words)\n",
    "\n",
    "test_data = keras.preprocessing.sequence.pad_sequences(test_data,\n",
    "                                                       value=word_index[\"<PAD>\"],\n",
    "                                                       padding='post',\n",
    "                                                        truncating='post',\n",
    "                                                       maxlen=max_words)"
   ]
  },
  {
   "cell_type": "code",
   "execution_count": 25,
   "metadata": {},
   "outputs": [
    {
     "name": "stdout",
     "output_type": "stream",
     "text": [
      "Human Readable Review: \n",
      "<START> this film was just brilliant casting location scenery story direction everyone's really suited the part they played and you could just imagine being there robert <UNK> is an amazing actor and now the same being director <UNK> father came from the same scottish island as myself so i loved the fact there was a real connection with this film the witty remarks throughout the film were great it was just brilliant so much that i bought the film as soon as it was released for <UNK> and would recommend it to everyone to watch and the fly fishing was amazing really cried at the end it was so sad and you know what they say if you cry at a film it must have been good and this definitely was also <UNK> to the two little boy's that played the <UNK> of norman and paul they were just brilliant children are often left out of the <UNK> list i think because the stars that play them all grown up are such a big profile for the whole film but these children are amazing and should be praised for what they have done don't you think the whole story was so lovely because it was true and was someone's life after all that was shared with us all <PAD> <PAD> <PAD> <PAD> <PAD> <PAD> <PAD> <PAD> <PAD> <PAD> <PAD> <PAD> <PAD> <PAD> <PAD> <PAD> <PAD> <PAD> <PAD> <PAD> <PAD> <PAD> <PAD> <PAD> <PAD> <PAD> <PAD> <PAD> <PAD> <PAD> <PAD> <PAD> <PAD> <PAD> <PAD> <PAD> <PAD> <PAD>\n"
     ]
    }
   ],
   "source": [
    "# Here we can see our review has been padded with the <PAD> token\n",
    "print(\"Human Readable Review: \\n{}\".format(decodeReview(train_data[0], reverse_word_index)))"
   ]
  },
  {
   "cell_type": "code",
   "execution_count": 26,
   "metadata": {},
   "outputs": [
    {
     "name": "stdout",
     "output_type": "stream",
     "text": [
      "Human Readable Review: \n",
      "<START> the <UNK> <UNK> at storytelling the traditional sort many years after the event i can still see in my <UNK> eye an elderly lady my friend's mother retelling the battle of <UNK> she makes the characters come alive her passion is that of an eye witness one to the events on the <UNK> heath a mile or so from where she lives br br of course it happened many years before she was born but you wouldn't guess from the way she tells it the same story is told in bars the length and <UNK> of scotland as i discussed it with a friend one night in <UNK> a local cut in to give his version the discussion continued to closing time br br stories passed down like this become part of our being who doesn't remember the stories our parents told us when we were children they become our invisible world and as we grow older they maybe still serve as inspiration or as an emotional <UNK> fact and fiction blend with <UNK> role models warning stories <UNK> magic and mystery br br my name is <UNK> like my grandfather and his grandfather before him our protagonist introduces himself to us and also introduces the story that stretches back through generations it produces stories within stories stories that evoke the <UNK> wonder of scotland its rugged mountains <UNK> in <UNK> the stuff of legend yet <UNK> is <UNK> in reality this is what gives it its special charm it has a rough beauty and\n"
     ]
    }
   ],
   "source": [
    "# This review has been truncated\n",
    "print(\"Human Readable Review: \\n{}\".format(decodeReview(train_data[3], reverse_word_index)))"
   ]
  },
  {
   "cell_type": "markdown",
   "metadata": {},
   "source": [
    "# Defining a Model\n",
    "## Embedding Layer\n",
    "For a basic text classifier, we can use the same layers (_Dense_ and _Flatten_) to learn the relationship between a sentence and its sentiment (Positive or Negative).\n",
    "\n",
    "To achive this we are going to need a specialist Layer called an __Embedding__ layer. This layer encodes words as a representation such that words with similar meanings have similar representations. This enables us to infer some relationships between similar words such as:\n",
    "- male and female forms of words (although this has some issues)\n",
    "- verb tenses (e.g. Walking and Walked)\n",
    "- objects (e.g. Italy and Rome)\n",
    "\n",
    "Embeddings are learned from the data we are learning from however in most cases the data we are learning from probably contains too many unique words to be learned in a reasonable timeframe. \n",
    "\n",
    "One approach is to limit the embeddings we learn to the most frequently used words (e.g. the top 10K words).\n",
    "\n",
    "With an embedding layer defined, the rest of the model is the same as you have encountered before; we can create a sequence of __Dense__ layers before our Output layer.\n",
    "\n",
    "__NOTE__: if we are using an embedding layer it __must__ be the first layer in the model.\n",
    "\n",
    "### Additional Information on Embeddings\n",
    "\n",
    "For more details on this type of layer you can read https://keras.io/layers/embeddings/#embedding\n",
    "\n",
    "For more details on what Embeddings are you can read https://machinelearningmastery.com/what-are-word-embeddings/\n"
   ]
  },
  {
   "cell_type": "markdown",
   "metadata": {},
   "source": [
    "### Exercise\n",
    "Below we have created the skeleton of a Model to learn from our text. \n",
    "\n",
    "Review the __Input__ layer and ensure you understand how the Embdedding layer is configured, referring to https://keras.io/layers/embeddings/#embedding in needed.\n",
    "\n",
    "Also review the __Output__ layer and ensure you understand why it is configured in this way - remember we are trying to decide if a review is Positive or Negative.\n",
    "\n",
    "Lastly, you are encouraged to change the __Hidden__ layers to create a model with one or more hidden layers."
   ]
  },
  {
   "cell_type": "code",
   "execution_count": 27,
   "metadata": {},
   "outputs": [
    {
     "name": "stdout",
     "output_type": "stream",
     "text": [
      "Model: \"sequential\"\n",
      "_________________________________________________________________\n",
      "Layer (type)                 Output Shape              Param #   \n",
      "=================================================================\n",
      "embedding (Embedding)        (None, 256, 32)           320000    \n",
      "_________________________________________________________________\n",
      "flatten (Flatten)            (None, 8192)              0         \n",
      "_________________________________________________________________\n",
      "dense (Dense)                (None, 256)               2097408   \n",
      "_________________________________________________________________\n",
      "dense_1 (Dense)              (None, 1)                 257       \n",
      "=================================================================\n",
      "Total params: 2,417,665\n",
      "Trainable params: 2,417,665\n",
      "Non-trainable params: 0\n",
      "_________________________________________________________________\n"
     ]
    }
   ],
   "source": [
    "# input shape is the vocabulary count used for the movie reviews (10,000 words)\n",
    "vocab_size = 10000\n",
    "\n",
    "model = keras.Sequential()\n",
    "# Input Layer\n",
    "model.add(keras.layers.Embedding(input_dim = vocab_size, \n",
    "                                 output_dim=32,\n",
    "                                 input_length=max_words))\n",
    "model.add(keras.layers.Flatten())\n",
    "\n",
    "# Hidden Layers\n",
    "# YOUR CHANGES START HERE\n",
    "# TODO: Decide how many layers you want and how many units on each layer\n",
    "model.add(keras.layers.Dense(units=256, activation=tf.nn.relu))\n",
    "# YOUR CHANGES END HERE\n",
    "\n",
    "# Output Layer\n",
    "model.add(keras.layers.Dense(units=1, activation=tf.nn.sigmoid))\n",
    "\n",
    "# Compile the model\n",
    "model.compile(optimizer='adam',\n",
    "              loss='binary_crossentropy',\n",
    "              metrics=['acc'])\n",
    "\n",
    "# Sumarise the model\n",
    "model.summary()"
   ]
  },
  {
   "cell_type": "markdown",
   "metadata": {},
   "source": [
    "# Train the Model\n",
    "We are now in a position to train our model against our data. We have set the number of epochs to 50 with the option to stop early if the validation loss stagnates."
   ]
  },
  {
   "cell_type": "code",
   "execution_count": 28,
   "metadata": {},
   "outputs": [
    {
     "name": "stderr",
     "output_type": "stream",
     "text": [
      "WARNING: Logging before flag parsing goes to stderr.\n",
      "W0927 18:08:52.750440  8324 deprecation.py:323] From C:\\Users\\Bill\\Anaconda3\\envs\\ai\\lib\\site-packages\\tensorflow\\python\\ops\\math_grad.py:1250: add_dispatch_support.<locals>.wrapper (from tensorflow.python.ops.array_ops) is deprecated and will be removed in a future version.\n",
      "Instructions for updating:\n",
      "Use tf.where in 2.0, which has the same broadcast rule as np.where\n"
     ]
    },
    {
     "name": "stdout",
     "output_type": "stream",
     "text": [
      "Train on 20000 samples, validate on 5000 samples\n",
      "Epoch 1/50\n",
      "20000/20000 - 6s - loss: 0.6515 - acc: 0.6111 - val_loss: 0.4978 - val_acc: 0.7698\n",
      "Epoch 2/50\n",
      "20000/20000 - 6s - loss: 0.3129 - acc: 0.8687 - val_loss: 0.3369 - val_acc: 0.8626\n",
      "Epoch 3/50\n",
      "20000/20000 - 6s - loss: 0.1218 - acc: 0.9635 - val_loss: 0.3854 - val_acc: 0.8500\n",
      "Epoch 4/50\n",
      "20000/20000 - 6s - loss: 0.0439 - acc: 0.9922 - val_loss: 0.4081 - val_acc: 0.8618\n",
      "Epoch 5/50\n",
      "20000/20000 - 5s - loss: 0.0142 - acc: 0.9987 - val_loss: 0.4506 - val_acc: 0.8634\n"
     ]
    }
   ],
   "source": [
    "# We'll train for some epochs\n",
    "epochs = 50\n",
    "\n",
    "# Stop early if our Validation Loss stagnates\n",
    "early_stop = keras.callbacks.EarlyStopping(monitor='val_loss', patience=3)\n",
    "\n",
    "# Train our model\n",
    "history = model.fit(train_data,\n",
    "                    train_labels,\n",
    "                    epochs=epochs,\n",
    "                    batch_size=512,\n",
    "                    validation_split = 0.2,\n",
    "                    verbose=2,\n",
    "                   callbacks=[early_stop])"
   ]
  },
  {
   "cell_type": "markdown",
   "metadata": {},
   "source": [
    "## Evaluate our model\n",
    "We will now evaluate our model against a set of previously unseen reviews"
   ]
  },
  {
   "cell_type": "code",
   "execution_count": 29,
   "metadata": {},
   "outputs": [
    {
     "name": "stdout",
     "output_type": "stream",
     "text": [
      "25000/25000 [==============================] - 5s 183us/sample - loss: 0.4703 - acc: 0.8454\n",
      "Test Loss: 0.47028198818683625\n",
      "Test Accuracy: 0.84544\n"
     ]
    }
   ],
   "source": [
    "val_loss, val_acc = model.evaluate(test_data, test_labels)\n",
    "\n",
    "print (\"Test Loss:\", val_loss)\n",
    "print (\"Test Accuracy:\", val_acc)"
   ]
  },
  {
   "cell_type": "code",
   "execution_count": 30,
   "metadata": {},
   "outputs": [
    {
     "data": {
      "image/png": "[encoded data removed]",
      "text/plain": [
       "<Figure size 432x288 with 1 Axes>"
      ]
     },
     "metadata": {
      "needs_background": "light"
     },
     "output_type": "display_data"
    },
    {
     "data": {
      "image/png": "[encoded data removed]",
      "text/plain": [
       "<Figure size 432x288 with 1 Axes>"
      ]
     },
     "metadata": {
      "needs_background": "light"
     },
     "output_type": "display_data"
    }
   ],
   "source": [
    "printLossAndAccuracy(history)"
   ]
  },
  {
   "cell_type": "markdown",
   "metadata": {},
   "source": [
    "### Execise\n",
    "We have a method that will predict a star rating for given review. A really positive review will be predicted as 5 Stars, whereas a really negative review will be predicted as 1 Star.\n",
    "\n",
    "Try some sample reviews by changing the value of _my_review_ and see if the predicted Star rating matches your expectations.\n",
    "\n",
    "Given this system and the specific requirement to estimate a Star rating, what are the risks you should test for?\n",
    "\n",
    "Work in your teams and:\n",
    "- List out some of the risks you would want to test for\n",
    "- Try out some of your ideas out and record any issues you find"
   ]
  },
  {
   "cell_type": "code",
   "execution_count": 31,
   "metadata": {},
   "outputs": [
    {
     "name": "stdout",
     "output_type": "stream",
     "text": [
      "ok directing but good casting.\n",
      "\n",
      "Predicted Star Rating (1-5 Stars) is 4 Stars\n"
     ]
    }
   ],
   "source": [
    "# Try a review out\n",
    "my_review = \"ok directing but good casting.\"\n",
    "\n",
    "\n",
    "print(my_review)\n",
    "print(\"\\nPredicted Star Rating (1-5 Stars) is {}\".format(predictStarRating(my_review, \n",
    "                                                         model, word_index)))"
   ]
  },
  {
   "cell_type": "code",
   "execution_count": null,
   "metadata": {},
   "outputs": [],
   "source": []
  }
 ],
 "metadata": {
  "kernelspec": {
   "display_name": "Python 3",
   "language": "python",
   "name": "python3"
  },
  "language_info": {
   "codemirror_mode": {
    "name": "ipython",
    "version": 3
   },
   "file_extension": ".py",
   "mimetype": "text/x-python",
   "name": "python",
   "nbconvert_exporter": "python",
   "pygments_lexer": "ipython3",
   "version": "3.7.3"
  }
 },
 "nbformat": 4,
 "nbformat_minor": 2
}

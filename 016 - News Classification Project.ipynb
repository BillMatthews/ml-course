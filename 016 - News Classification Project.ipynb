{
 "cells": [
  {
   "cell_type": "markdown",
   "metadata": {},
   "source": [
    "# News Headline Categorisation Project\n",
    "You've learned various ways to work with Textual data and build a reasonable Movie Review Sentiment Predictor. In this workbook you are going to use all that you have previously learned to tackle a Document Classification task. \n",
    "\n",
    "This project is based on the Kaggle Challenge https://www.kaggle.com/rmisra/news-category-dataset\n",
    "\n",
    "In this project you will take data about news articles and build a model to classify them into one of a number of News Categories such as Crime, Entertainment, Travel and so on.\n",
    "\n",
    "As this is a Project, you will have more time to complete this workbook but at the same time there is less guidance in the workbook."
   ]
  },
  {
   "cell_type": "markdown",
   "metadata": {},
   "source": [
    "# Import some packages\n",
    "These are the packages we will (most probably) need to complete this task"
   ]
  },
  {
   "cell_type": "code",
   "execution_count": 1,
   "metadata": {},
   "outputs": [],
   "source": [
    "import pandas as pd\n",
    "from sklearn.model_selection import train_test_split\n",
    "import tensorflow as tf\n",
    "import tensorflow.keras as keras\n",
    "import os\n",
    "import numpy as np"
   ]
  },
  {
   "cell_type": "code",
   "execution_count": null,
   "metadata": {},
   "outputs": [],
   "source": [
    "# download pretrained GloVe embeddings\n",
    "!wget http://nlp.stanford.edu/data/glove.6B.zip"
   ]
  },
  {
   "cell_type": "code",
   "execution_count": null,
   "metadata": {},
   "outputs": [],
   "source": [
    "# Unzip the file\n",
    "!unzip glove.6B.zip"
   ]
  },
  {
   "cell_type": "markdown",
   "metadata": {},
   "source": [
    "## Helper functions\n",
    "The following cell contains a set of helper functions that makes our models a little clearer. We will not be going through these functions (since they require Python knowlege) so just make sure you have run this cell."
   ]
  },
  {
   "cell_type": "code",
   "execution_count": 102,
   "metadata": {},
   "outputs": [],
   "source": [
    "def load_glove_file_embeddings():\n",
    "    # Extract the Embeddings\n",
    "    glove_file = os.path.join('.', 'glove.6B.100d.txt')\n",
    "    embeddings_index = {}\n",
    "    f = open(glove_file, encoding=\"utf8\")\n",
    "    for line in f:\n",
    "        values = line.split()\n",
    "        word = values[0]\n",
    "        coefs = np.asarray(values[1:], dtype='float32')\n",
    "        embeddings_index[word] = coefs\n",
    "    f.close()\n",
    "    return embeddings_index\n",
    "\n",
    "def get_embedding_layer():\n",
    "    embeddings_index = load_glove_file_embeddings()\n",
    "    \n",
    "    # prepare embedding matrix\n",
    "    num_words = min(MAX_NUM_WORDS, len(word_index) + 1)\n",
    "    embedding_matrix = np.zeros((num_words, EMBEDDING_DIM))\n",
    "    for word, i in word_index.items():\n",
    "        if i >= MAX_NUM_WORDS:\n",
    "            continue\n",
    "        embedding_vector = embeddings_index.get(word)\n",
    "        if embedding_vector is not None:\n",
    "            # words not found in embedding index will be all-zeros.\n",
    "            embedding_matrix[i] = embedding_vector\n",
    "\n",
    "    # load pre-trained word embeddings into an Embedding layer\n",
    "    # note that we set trainable = False so as to keep the embeddings fixed\n",
    "    embedding_layer = keras.layers.Embedding(num_words,\n",
    "                                EMBEDDING_DIM,\n",
    "                                embeddings_initializer=keras.initializers.Constant(embedding_matrix),\n",
    "                                input_length=MAX_SEQUENCE_LENGTH,\n",
    "                                trainable=False)\n",
    "    return embedding_layer\n",
    "\n",
    "def printLossAndAccuracy(history):\n",
    "  import matplotlib.pyplot as plt\n",
    "  history_dict = history.history\n",
    "\n",
    "  acc = history_dict['acc']\n",
    "  val_acc = history_dict['val_acc']\n",
    "  loss = history_dict['loss']\n",
    "  val_loss = history_dict['val_loss']\n",
    "\n",
    "  epochs = range(1, len(acc) + 1)\n",
    "\n",
    "  # \"bo\" is for \"blue dot\"\n",
    "  plt.plot(epochs, loss, 'bo', label='Training loss')\n",
    "  # b is for \"solid blue line\"\n",
    "  plt.plot(epochs, val_loss, 'b', label='Validation loss')\n",
    "  plt.title('Training and validation loss')\n",
    "  plt.xlabel('Epochs')\n",
    "  plt.ylabel('Loss')\n",
    "  plt.legend()\n",
    "  \n",
    "  plt.show()\n",
    "\n",
    "  plt.clf()   # clear figure\n",
    "\n",
    "  plt.plot(epochs, acc, 'bo', label='Training acc')\n",
    "  plt.plot(epochs, val_acc, 'b', label='Validation acc')\n",
    "  plt.title('Training and validation accuracy')\n",
    "  plt.xlabel('Epochs')\n",
    "  plt.ylabel('Accuracy')\n",
    "  plt.legend()\n",
    "\n",
    "\n",
    "  plt.show()\n",
    "\n",
    "def prepare_test_seq(text):\n",
    "    test_seq = tokenizer.texts_to_sequences([text])\n",
    "    # Pad the data\n",
    "    test_seq = keras.preprocessing.sequence.pad_sequences(test_seq, \n",
    "                                                         padding='post',\n",
    "                                                         truncating='post',\n",
    "                                                         maxlen=MAX_SEQUENCE_LENGTH)\n",
    "    return test_seq\n",
    "\n",
    "def output_most_likely(categories, preds):\n",
    "    likely = np.argmax(preds);\n",
    "    print(\"Most likely to be {} with {:2f} likelihood\".format(categories[likely], preds[likely]) )\n",
    "\n",
    "def output_category_probs(categories, preds):\n",
    "    for i in range(len(categories)):\n",
    "        print(\"{:20}: {:2f}\".format(categories[i], preds[i]))\n",
    "    \n"
   ]
  },
  {
   "cell_type": "markdown",
   "metadata": {},
   "source": [
    "# Get the Data\n",
    "The data is in a JSON file but we can load this easily into a Pandas DataFrame."
   ]
  },
  {
   "cell_type": "code",
   "execution_count": 44,
   "metadata": {},
   "outputs": [
    {
     "data": {
      "text/html": [
       "<div>\n",
       "<style scoped>\n",
       "    .dataframe tbody tr th:only-of-type {\n",
       "        vertical-align: middle;\n",
       "    }\n",
       "\n",
       "    .dataframe tbody tr th {\n",
       "        vertical-align: top;\n",
       "    }\n",
       "\n",
       "    .dataframe thead th {\n",
       "        text-align: right;\n",
       "    }\n",
       "</style>\n",
       "<table border=\"1\" class=\"dataframe\">\n",
       "  <thead>\n",
       "    <tr style=\"text-align: right;\">\n",
       "      <th></th>\n",
       "      <th>authors</th>\n",
       "      <th>category</th>\n",
       "      <th>date</th>\n",
       "      <th>headline</th>\n",
       "      <th>link</th>\n",
       "      <th>short_description</th>\n",
       "    </tr>\n",
       "  </thead>\n",
       "  <tbody>\n",
       "    <tr>\n",
       "      <th>0</th>\n",
       "      <td>Melissa Jeltsen</td>\n",
       "      <td>CRIME</td>\n",
       "      <td>2018-05-26</td>\n",
       "      <td>There Were 2 Mass Shootings In Texas Last Week...</td>\n",
       "      <td>https://www.huffingtonpost.com/entry/texas-ama...</td>\n",
       "      <td>She left her husband. He killed their children...</td>\n",
       "    </tr>\n",
       "    <tr>\n",
       "      <th>1</th>\n",
       "      <td>Andy McDonald</td>\n",
       "      <td>ENTERTAINMENT</td>\n",
       "      <td>2018-05-26</td>\n",
       "      <td>Will Smith Joins Diplo And Nicky Jam For The 2...</td>\n",
       "      <td>https://www.huffingtonpost.com/entry/will-smit...</td>\n",
       "      <td>Of course it has a song.</td>\n",
       "    </tr>\n",
       "    <tr>\n",
       "      <th>2</th>\n",
       "      <td>Ron Dicker</td>\n",
       "      <td>ENTERTAINMENT</td>\n",
       "      <td>2018-05-26</td>\n",
       "      <td>Hugh Grant Marries For The First Time At Age 57</td>\n",
       "      <td>https://www.huffingtonpost.com/entry/hugh-gran...</td>\n",
       "      <td>The actor and his longtime girlfriend Anna Ebe...</td>\n",
       "    </tr>\n",
       "    <tr>\n",
       "      <th>3</th>\n",
       "      <td>Ron Dicker</td>\n",
       "      <td>ENTERTAINMENT</td>\n",
       "      <td>2018-05-26</td>\n",
       "      <td>Jim Carrey Blasts 'Castrato' Adam Schiff And D...</td>\n",
       "      <td>https://www.huffingtonpost.com/entry/jim-carre...</td>\n",
       "      <td>The actor gives Dems an ass-kicking for not fi...</td>\n",
       "    </tr>\n",
       "    <tr>\n",
       "      <th>4</th>\n",
       "      <td>Ron Dicker</td>\n",
       "      <td>ENTERTAINMENT</td>\n",
       "      <td>2018-05-26</td>\n",
       "      <td>Julianna Margulies Uses Donald Trump Poop Bags...</td>\n",
       "      <td>https://www.huffingtonpost.com/entry/julianna-...</td>\n",
       "      <td>The \"Dietland\" actress said using the bags is ...</td>\n",
       "    </tr>\n",
       "  </tbody>\n",
       "</table>\n",
       "</div>"
      ],
      "text/plain": [
       "           authors       category       date  \\\n",
       "0  Melissa Jeltsen          CRIME 2018-05-26   \n",
       "1    Andy McDonald  ENTERTAINMENT 2018-05-26   \n",
       "2       Ron Dicker  ENTERTAINMENT 2018-05-26   \n",
       "3       Ron Dicker  ENTERTAINMENT 2018-05-26   \n",
       "4       Ron Dicker  ENTERTAINMENT 2018-05-26   \n",
       "\n",
       "                                            headline  \\\n",
       "0  There Were 2 Mass Shootings In Texas Last Week...   \n",
       "1  Will Smith Joins Diplo And Nicky Jam For The 2...   \n",
       "2    Hugh Grant Marries For The First Time At Age 57   \n",
       "3  Jim Carrey Blasts 'Castrato' Adam Schiff And D...   \n",
       "4  Julianna Margulies Uses Donald Trump Poop Bags...   \n",
       "\n",
       "                                                link  \\\n",
       "0  https://www.huffingtonpost.com/entry/texas-ama...   \n",
       "1  https://www.huffingtonpost.com/entry/will-smit...   \n",
       "2  https://www.huffingtonpost.com/entry/hugh-gran...   \n",
       "3  https://www.huffingtonpost.com/entry/jim-carre...   \n",
       "4  https://www.huffingtonpost.com/entry/julianna-...   \n",
       "\n",
       "                                   short_description  \n",
       "0  She left her husband. He killed their children...  \n",
       "1                           Of course it has a song.  \n",
       "2  The actor and his longtime girlfriend Anna Ebe...  \n",
       "3  The actor gives Dems an ass-kicking for not fi...  \n",
       "4  The \"Dietland\" actress said using the bags is ...  "
      ]
     },
     "execution_count": 44,
     "metadata": {},
     "output_type": "execute_result"
    }
   ],
   "source": [
    "data = pd.read_json('News_Category_Dataset_v2.json', lines=True)\n",
    "data.head()"
   ]
  },
  {
   "cell_type": "markdown",
   "metadata": {},
   "source": [
    "# Data Pre-Processing\n",
    "For our purpose we will don't need features such as the authors, date and link so we can drop all the other features.\n",
    "\n",
    "## Exercise\n",
    "To construct a news classifier, we can use the _headline_ feature and we will use the _category_ as our target labels. The _headline_ feature contains only the headline for the news article and some additional information is given in the _short_description_\n",
    "\n",
    "We have engineered a new feature _summary_ that combines the _headline_ and _short_description_ into a single feature.\n",
    "\n",
    "You can either:\n",
    "- use the _headline_ feature\n",
    "- use the _short_description_ feature\n",
    "- use the _summary_ feature\n",
    "\n",
    "__Note__ there is sufficient time for this exercise that you can do both by re-running the workbook and making the change"
   ]
  },
  {
   "cell_type": "code",
   "execution_count": 46,
   "metadata": {},
   "outputs": [
    {
     "ename": "KeyError",
     "evalue": "'short_description'",
     "output_type": "error",
     "traceback": [
      "\u001b[1;31m---------------------------------------------------------------------------\u001b[0m",
      "\u001b[1;31mKeyError\u001b[0m                                  Traceback (most recent call last)",
      "\u001b[1;32m~\\Anaconda3\\envs\\ai\\lib\\site-packages\\pandas\\core\\indexes\\base.py\u001b[0m in \u001b[0;36mget_loc\u001b[1;34m(self, key, method, tolerance)\u001b[0m\n\u001b[0;32m   2656\u001b[0m             \u001b[1;32mtry\u001b[0m\u001b[1;33m:\u001b[0m\u001b[1;33m\u001b[0m\u001b[1;33m\u001b[0m\u001b[0m\n\u001b[1;32m-> 2657\u001b[1;33m                 \u001b[1;32mreturn\u001b[0m \u001b[0mself\u001b[0m\u001b[1;33m.\u001b[0m\u001b[0m_engine\u001b[0m\u001b[1;33m.\u001b[0m\u001b[0mget_loc\u001b[0m\u001b[1;33m(\u001b[0m\u001b[0mkey\u001b[0m\u001b[1;33m)\u001b[0m\u001b[1;33m\u001b[0m\u001b[1;33m\u001b[0m\u001b[0m\n\u001b[0m\u001b[0;32m   2658\u001b[0m             \u001b[1;32mexcept\u001b[0m \u001b[0mKeyError\u001b[0m\u001b[1;33m:\u001b[0m\u001b[1;33m\u001b[0m\u001b[1;33m\u001b[0m\u001b[0m\n",
      "\u001b[1;32mpandas/_libs/index.pyx\u001b[0m in \u001b[0;36mpandas._libs.index.IndexEngine.get_loc\u001b[1;34m()\u001b[0m\n",
      "\u001b[1;32mpandas/_libs/index.pyx\u001b[0m in \u001b[0;36mpandas._libs.index.IndexEngine.get_loc\u001b[1;34m()\u001b[0m\n",
      "\u001b[1;32mpandas/_libs/hashtable_class_helper.pxi\u001b[0m in \u001b[0;36mpandas._libs.hashtable.PyObjectHashTable.get_item\u001b[1;34m()\u001b[0m\n",
      "\u001b[1;32mpandas/_libs/hashtable_class_helper.pxi\u001b[0m in \u001b[0;36mpandas._libs.hashtable.PyObjectHashTable.get_item\u001b[1;34m()\u001b[0m\n",
      "\u001b[1;31mKeyError\u001b[0m: 'short_description'",
      "\nDuring handling of the above exception, another exception occurred:\n",
      "\u001b[1;31mKeyError\u001b[0m                                  Traceback (most recent call last)",
      "\u001b[1;32m<ipython-input-46-d5555c5eb316>\u001b[0m in \u001b[0;36m<module>\u001b[1;34m\u001b[0m\n\u001b[0;32m      1\u001b[0m \u001b[1;31m# Create a new feature combining headline and short_description\u001b[0m\u001b[1;33m\u001b[0m\u001b[1;33m\u001b[0m\u001b[1;33m\u001b[0m\u001b[0m\n\u001b[1;32m----> 2\u001b[1;33m \u001b[0mdata\u001b[0m\u001b[1;33m[\u001b[0m\u001b[1;34m'summary'\u001b[0m\u001b[1;33m]\u001b[0m \u001b[1;33m=\u001b[0m \u001b[0mdata\u001b[0m\u001b[1;33m[\u001b[0m\u001b[1;34m'headline'\u001b[0m\u001b[1;33m]\u001b[0m\u001b[1;33m.\u001b[0m\u001b[0mstr\u001b[0m\u001b[1;33m.\u001b[0m\u001b[0mcat\u001b[0m\u001b[1;33m(\u001b[0m\u001b[0mdata\u001b[0m\u001b[1;33m[\u001b[0m\u001b[1;34m'short_description'\u001b[0m\u001b[1;33m]\u001b[0m\u001b[1;33m,\u001b[0m\u001b[0msep\u001b[0m\u001b[1;33m=\u001b[0m\u001b[1;34m\" \"\u001b[0m\u001b[1;33m)\u001b[0m\u001b[1;33m\u001b[0m\u001b[1;33m\u001b[0m\u001b[0m\n\u001b[0m\u001b[0;32m      3\u001b[0m \u001b[1;33m\u001b[0m\u001b[0m\n\u001b[0;32m      4\u001b[0m \u001b[1;31m# TODO: Specify the columns you want to drop\u001b[0m\u001b[1;33m\u001b[0m\u001b[1;33m\u001b[0m\u001b[1;33m\u001b[0m\u001b[0m\n\u001b[0;32m      5\u001b[0m \u001b[1;31m# We have specified the first few, so add to this list to drop more\u001b[0m\u001b[1;33m\u001b[0m\u001b[1;33m\u001b[0m\u001b[1;33m\u001b[0m\u001b[0m\n",
      "\u001b[1;32m~\\Anaconda3\\envs\\ai\\lib\\site-packages\\pandas\\core\\frame.py\u001b[0m in \u001b[0;36m__getitem__\u001b[1;34m(self, key)\u001b[0m\n\u001b[0;32m   2925\u001b[0m             \u001b[1;32mif\u001b[0m \u001b[0mself\u001b[0m\u001b[1;33m.\u001b[0m\u001b[0mcolumns\u001b[0m\u001b[1;33m.\u001b[0m\u001b[0mnlevels\u001b[0m \u001b[1;33m>\u001b[0m \u001b[1;36m1\u001b[0m\u001b[1;33m:\u001b[0m\u001b[1;33m\u001b[0m\u001b[1;33m\u001b[0m\u001b[0m\n\u001b[0;32m   2926\u001b[0m                 \u001b[1;32mreturn\u001b[0m \u001b[0mself\u001b[0m\u001b[1;33m.\u001b[0m\u001b[0m_getitem_multilevel\u001b[0m\u001b[1;33m(\u001b[0m\u001b[0mkey\u001b[0m\u001b[1;33m)\u001b[0m\u001b[1;33m\u001b[0m\u001b[1;33m\u001b[0m\u001b[0m\n\u001b[1;32m-> 2927\u001b[1;33m             \u001b[0mindexer\u001b[0m \u001b[1;33m=\u001b[0m \u001b[0mself\u001b[0m\u001b[1;33m.\u001b[0m\u001b[0mcolumns\u001b[0m\u001b[1;33m.\u001b[0m\u001b[0mget_loc\u001b[0m\u001b[1;33m(\u001b[0m\u001b[0mkey\u001b[0m\u001b[1;33m)\u001b[0m\u001b[1;33m\u001b[0m\u001b[1;33m\u001b[0m\u001b[0m\n\u001b[0m\u001b[0;32m   2928\u001b[0m             \u001b[1;32mif\u001b[0m \u001b[0mis_integer\u001b[0m\u001b[1;33m(\u001b[0m\u001b[0mindexer\u001b[0m\u001b[1;33m)\u001b[0m\u001b[1;33m:\u001b[0m\u001b[1;33m\u001b[0m\u001b[1;33m\u001b[0m\u001b[0m\n\u001b[0;32m   2929\u001b[0m                 \u001b[0mindexer\u001b[0m \u001b[1;33m=\u001b[0m \u001b[1;33m[\u001b[0m\u001b[0mindexer\u001b[0m\u001b[1;33m]\u001b[0m\u001b[1;33m\u001b[0m\u001b[1;33m\u001b[0m\u001b[0m\n",
      "\u001b[1;32m~\\Anaconda3\\envs\\ai\\lib\\site-packages\\pandas\\core\\indexes\\base.py\u001b[0m in \u001b[0;36mget_loc\u001b[1;34m(self, key, method, tolerance)\u001b[0m\n\u001b[0;32m   2657\u001b[0m                 \u001b[1;32mreturn\u001b[0m \u001b[0mself\u001b[0m\u001b[1;33m.\u001b[0m\u001b[0m_engine\u001b[0m\u001b[1;33m.\u001b[0m\u001b[0mget_loc\u001b[0m\u001b[1;33m(\u001b[0m\u001b[0mkey\u001b[0m\u001b[1;33m)\u001b[0m\u001b[1;33m\u001b[0m\u001b[1;33m\u001b[0m\u001b[0m\n\u001b[0;32m   2658\u001b[0m             \u001b[1;32mexcept\u001b[0m \u001b[0mKeyError\u001b[0m\u001b[1;33m:\u001b[0m\u001b[1;33m\u001b[0m\u001b[1;33m\u001b[0m\u001b[0m\n\u001b[1;32m-> 2659\u001b[1;33m                 \u001b[1;32mreturn\u001b[0m \u001b[0mself\u001b[0m\u001b[1;33m.\u001b[0m\u001b[0m_engine\u001b[0m\u001b[1;33m.\u001b[0m\u001b[0mget_loc\u001b[0m\u001b[1;33m(\u001b[0m\u001b[0mself\u001b[0m\u001b[1;33m.\u001b[0m\u001b[0m_maybe_cast_indexer\u001b[0m\u001b[1;33m(\u001b[0m\u001b[0mkey\u001b[0m\u001b[1;33m)\u001b[0m\u001b[1;33m)\u001b[0m\u001b[1;33m\u001b[0m\u001b[1;33m\u001b[0m\u001b[0m\n\u001b[0m\u001b[0;32m   2660\u001b[0m         \u001b[0mindexer\u001b[0m \u001b[1;33m=\u001b[0m \u001b[0mself\u001b[0m\u001b[1;33m.\u001b[0m\u001b[0mget_indexer\u001b[0m\u001b[1;33m(\u001b[0m\u001b[1;33m[\u001b[0m\u001b[0mkey\u001b[0m\u001b[1;33m]\u001b[0m\u001b[1;33m,\u001b[0m \u001b[0mmethod\u001b[0m\u001b[1;33m=\u001b[0m\u001b[0mmethod\u001b[0m\u001b[1;33m,\u001b[0m \u001b[0mtolerance\u001b[0m\u001b[1;33m=\u001b[0m\u001b[0mtolerance\u001b[0m\u001b[1;33m)\u001b[0m\u001b[1;33m\u001b[0m\u001b[1;33m\u001b[0m\u001b[0m\n\u001b[0;32m   2661\u001b[0m         \u001b[1;32mif\u001b[0m \u001b[0mindexer\u001b[0m\u001b[1;33m.\u001b[0m\u001b[0mndim\u001b[0m \u001b[1;33m>\u001b[0m \u001b[1;36m1\u001b[0m \u001b[1;32mor\u001b[0m \u001b[0mindexer\u001b[0m\u001b[1;33m.\u001b[0m\u001b[0msize\u001b[0m \u001b[1;33m>\u001b[0m \u001b[1;36m1\u001b[0m\u001b[1;33m:\u001b[0m\u001b[1;33m\u001b[0m\u001b[1;33m\u001b[0m\u001b[0m\n",
      "\u001b[1;32mpandas/_libs/index.pyx\u001b[0m in \u001b[0;36mpandas._libs.index.IndexEngine.get_loc\u001b[1;34m()\u001b[0m\n",
      "\u001b[1;32mpandas/_libs/index.pyx\u001b[0m in \u001b[0;36mpandas._libs.index.IndexEngine.get_loc\u001b[1;34m()\u001b[0m\n",
      "\u001b[1;32mpandas/_libs/hashtable_class_helper.pxi\u001b[0m in \u001b[0;36mpandas._libs.hashtable.PyObjectHashTable.get_item\u001b[1;34m()\u001b[0m\n",
      "\u001b[1;32mpandas/_libs/hashtable_class_helper.pxi\u001b[0m in \u001b[0;36mpandas._libs.hashtable.PyObjectHashTable.get_item\u001b[1;34m()\u001b[0m\n",
      "\u001b[1;31mKeyError\u001b[0m: 'short_description'"
     ]
    }
   ],
   "source": [
    "# Create a new feature combining headline and short_description\n",
    "data['summary'] = data['headline'].str.cat(data['short_description'],sep=\" \")\n",
    "\n",
    "# TODO: Specify the columns you want to drop\n",
    "# We have specified the first few, so add to this list to drop more\n",
    "# Remember you only want to have a single feature to train from and a single target label (category)\n",
    "#features_to_drop = ['authors', 'date', 'link']\n",
    "features_to_drop = ['authors', 'date', 'link', 'short_description', 'summary']\n",
    "\n",
    "\n",
    "# Drop the columns we are not interested in\n",
    "data.drop(features_to_drop, axis=1, inplace=True)\n",
    "data.head()"
   ]
  },
  {
   "cell_type": "markdown",
   "metadata": {},
   "source": [
    "## Limiting Categories\n",
    "Running the cell below you will see a summary of the categories and the number of articles in each.\n",
    "We can train to classify all of these but some categories have much fewer articles and so are unlikely to be learned well.\n",
    "\n",
    "One option is to get more data but that is not feasible within the context of this exercise.\n",
    "\n",
    "Another option is to limit our Categories to the top categories only"
   ]
  },
  {
   "cell_type": "code",
   "execution_count": 47,
   "metadata": {},
   "outputs": [
    {
     "name": "stdout",
     "output_type": "stream",
     "text": [
      "category\n",
      "POLITICS          32739\n",
      "WELLNESS          17827\n",
      "ENTERTAINMENT     16058\n",
      "TRAVEL             9887\n",
      "STYLE & BEAUTY     9649\n",
      "PARENTING          8677\n",
      "HEALTHY LIVING     6694\n",
      "QUEER VOICES       6314\n",
      "FOOD & DRINK       6226\n",
      "BUSINESS           5937\n",
      "COMEDY             5175\n",
      "SPORTS             4884\n",
      "BLACK VOICES       4528\n",
      "HOME & LIVING      4195\n",
      "PARENTS            3955\n",
      "THE WORLDPOST      3664\n",
      "WEDDINGS           3651\n",
      "WOMEN              3490\n",
      "IMPACT             3459\n",
      "DIVORCE            3426\n",
      "CRIME              3405\n",
      "MEDIA              2815\n",
      "WEIRD NEWS         2670\n",
      "GREEN              2622\n",
      "WORLDPOST          2579\n",
      "RELIGION           2556\n",
      "STYLE              2254\n",
      "SCIENCE            2178\n",
      "WORLD NEWS         2177\n",
      "TASTE              2096\n",
      "TECH               2082\n",
      "MONEY              1707\n",
      "ARTS               1509\n",
      "FIFTY              1401\n",
      "GOOD NEWS          1398\n",
      "ARTS & CULTURE     1339\n",
      "ENVIRONMENT        1323\n",
      "COLLEGE            1144\n",
      "LATINO VOICES      1129\n",
      "CULTURE & ARTS     1030\n",
      "EDUCATION          1004\n",
      "dtype: int64\n"
     ]
    }
   ],
   "source": [
    "categories = data.groupby('category').size().sort_values(ascending=False)\n",
    "print(categories)"
   ]
  },
  {
   "cell_type": "markdown",
   "metadata": {},
   "source": [
    "### Exercise\n",
    "Review the list above and decide how many categories you want your classifier to work with"
   ]
  },
  {
   "cell_type": "code",
   "execution_count": 48,
   "metadata": {},
   "outputs": [
    {
     "data": {
      "text/plain": [
       "category\n",
       "POLITICS          32738\n",
       "WELLNESS          17827\n",
       "ENTERTAINMENT     16058\n",
       "TRAVEL             9887\n",
       "STYLE & BEAUTY     9649\n",
       "PARENTING          8677\n",
       "HEALTHY LIVING     6694\n",
       "dtype: int64"
      ]
     },
     "execution_count": 48,
     "metadata": {},
     "output_type": "execute_result"
    }
   ],
   "source": [
    "# TODO: Set the TOP_N_CATEGORIES to some suitable value\n",
    "TOP_N_CATEGORIES = 7\n",
    "\n",
    "# Delete records that are not in the top categories\n",
    "data = data[data.category.apply(lambda x: x in categories.index[:TOP_N_CATEGORIES]) &\\\n",
    "            (data.headline.apply(len) > 0)]\n",
    "\n",
    "data.groupby('category').size().sort_values(ascending=False)"
   ]
  },
  {
   "cell_type": "markdown",
   "metadata": {},
   "source": [
    "## Encoding our target labels\n",
    "If you run the cell below and examine our _category_ feature you will notice that it is Textual data but we known that machines only understand numbers.\n",
    "\n",
    "We will be dealing with our training features soon but for now we will focus on our category."
   ]
  },
  {
   "cell_type": "code",
   "execution_count": 49,
   "metadata": {},
   "outputs": [
    {
     "data": {
      "text/html": [
       "<div>\n",
       "<style scoped>\n",
       "    .dataframe tbody tr th:only-of-type {\n",
       "        vertical-align: middle;\n",
       "    }\n",
       "\n",
       "    .dataframe tbody tr th {\n",
       "        vertical-align: top;\n",
       "    }\n",
       "\n",
       "    .dataframe thead th {\n",
       "        text-align: right;\n",
       "    }\n",
       "</style>\n",
       "<table border=\"1\" class=\"dataframe\">\n",
       "  <thead>\n",
       "    <tr style=\"text-align: right;\">\n",
       "      <th></th>\n",
       "      <th>category</th>\n",
       "      <th>headline</th>\n",
       "    </tr>\n",
       "  </thead>\n",
       "  <tbody>\n",
       "    <tr>\n",
       "      <th>200805</th>\n",
       "      <td>WELLNESS</td>\n",
       "      <td>This Is Only the Beginning: Surprising Advice ...</td>\n",
       "    </tr>\n",
       "    <tr>\n",
       "      <th>200806</th>\n",
       "      <td>STYLE &amp; BEAUTY</td>\n",
       "      <td>Cheryl Tiegs In A Sauna: A Look Back</td>\n",
       "    </tr>\n",
       "    <tr>\n",
       "      <th>200807</th>\n",
       "      <td>PARENTING</td>\n",
       "      <td>Teen Responsibility Doesn't Happen -- It's Nur...</td>\n",
       "    </tr>\n",
       "    <tr>\n",
       "      <th>200838</th>\n",
       "      <td>ENTERTAINMENT</td>\n",
       "      <td>Sundance, Ice-T, and Shades of the American Ra...</td>\n",
       "    </tr>\n",
       "    <tr>\n",
       "      <th>200839</th>\n",
       "      <td>ENTERTAINMENT</td>\n",
       "      <td>'Girl With the Dragon Tattoo' India Release Ca...</td>\n",
       "    </tr>\n",
       "  </tbody>\n",
       "</table>\n",
       "</div>"
      ],
      "text/plain": [
       "              category                                           headline\n",
       "200805        WELLNESS  This Is Only the Beginning: Surprising Advice ...\n",
       "200806  STYLE & BEAUTY               Cheryl Tiegs In A Sauna: A Look Back\n",
       "200807       PARENTING  Teen Responsibility Doesn't Happen -- It's Nur...\n",
       "200838   ENTERTAINMENT  Sundance, Ice-T, and Shades of the American Ra...\n",
       "200839   ENTERTAINMENT  'Girl With the Dragon Tattoo' India Release Ca..."
      ]
     },
     "execution_count": 49,
     "metadata": {},
     "output_type": "execute_result"
    }
   ],
   "source": [
    "data.tail()"
   ]
  },
  {
   "cell_type": "markdown",
   "metadata": {},
   "source": [
    "To ensure we can learn from this data we will do two things:\n",
    "- Extract the set of textual labels into a variable called __category_labels__\n",
    "- Convert the textual labels in our dataset to be a numberical index that maps to the _category_labels_\n",
    "\n",
    "We will do this using the Pandas _get_dummies()_ method to one-hot-encode the labels and then create a new column in our dataset with the index."
   ]
  },
  {
   "cell_type": "code",
   "execution_count": 50,
   "metadata": {},
   "outputs": [
    {
     "name": "stdout",
     "output_type": "stream",
     "text": [
      "['ENTERTAINMENT' 'HEALTHY LIVING' 'PARENTING' 'POLITICS' 'STYLE & BEAUTY'\n",
      " 'TRAVEL' 'WELLNESS']\n"
     ]
    },
    {
     "name": "stderr",
     "output_type": "stream",
     "text": [
      "C:\\Users\\Bill\\Anaconda3\\envs\\ai\\lib\\site-packages\\ipykernel_launcher.py:6: SettingWithCopyWarning: \n",
      "A value is trying to be set on a copy of a slice from a DataFrame.\n",
      "Try using .loc[row_indexer,col_indexer] = value instead\n",
      "\n",
      "See the caveats in the documentation: http://pandas.pydata.org/pandas-docs/stable/indexing.html#indexing-view-versus-copy\n",
      "  \n"
     ]
    },
    {
     "data": {
      "text/html": [
       "<div>\n",
       "<style scoped>\n",
       "    .dataframe tbody tr th:only-of-type {\n",
       "        vertical-align: middle;\n",
       "    }\n",
       "\n",
       "    .dataframe tbody tr th {\n",
       "        vertical-align: top;\n",
       "    }\n",
       "\n",
       "    .dataframe thead th {\n",
       "        text-align: right;\n",
       "    }\n",
       "</style>\n",
       "<table border=\"1\" class=\"dataframe\">\n",
       "  <thead>\n",
       "    <tr style=\"text-align: right;\">\n",
       "      <th></th>\n",
       "      <th>category</th>\n",
       "      <th>headline</th>\n",
       "    </tr>\n",
       "  </thead>\n",
       "  <tbody>\n",
       "    <tr>\n",
       "      <th>200805</th>\n",
       "      <td>6</td>\n",
       "      <td>This Is Only the Beginning: Surprising Advice ...</td>\n",
       "    </tr>\n",
       "    <tr>\n",
       "      <th>200806</th>\n",
       "      <td>4</td>\n",
       "      <td>Cheryl Tiegs In A Sauna: A Look Back</td>\n",
       "    </tr>\n",
       "    <tr>\n",
       "      <th>200807</th>\n",
       "      <td>2</td>\n",
       "      <td>Teen Responsibility Doesn't Happen -- It's Nur...</td>\n",
       "    </tr>\n",
       "    <tr>\n",
       "      <th>200838</th>\n",
       "      <td>0</td>\n",
       "      <td>Sundance, Ice-T, and Shades of the American Ra...</td>\n",
       "    </tr>\n",
       "    <tr>\n",
       "      <th>200839</th>\n",
       "      <td>0</td>\n",
       "      <td>'Girl With the Dragon Tattoo' India Release Ca...</td>\n",
       "    </tr>\n",
       "  </tbody>\n",
       "</table>\n",
       "</div>"
      ],
      "text/plain": [
       "        category                                           headline\n",
       "200805         6  This Is Only the Beginning: Surprising Advice ...\n",
       "200806         4               Cheryl Tiegs In A Sauna: A Look Back\n",
       "200807         2  Teen Responsibility Doesn't Happen -- It's Nur...\n",
       "200838         0  Sundance, Ice-T, and Shades of the American Ra...\n",
       "200839         0  'Girl With the Dragon Tattoo' India Release Ca..."
      ]
     },
     "execution_count": 50,
     "metadata": {},
     "output_type": "execute_result"
    }
   ],
   "source": [
    "# Here we one-hot-encode our labels\n",
    "dummies = pd.get_dummies(data['category'])\n",
    "# We extract our category labels\n",
    "category_labels = dummies.columns.values\n",
    "# We update our category feature to be the index of the category\n",
    "data['category'] = dummies.values.argmax(1)\n",
    "\n",
    "print(category_labels)\n",
    "data.tail()\n",
    "\n"
   ]
  },
  {
   "cell_type": "markdown",
   "metadata": {},
   "source": [
    "## Preparing our training features\n",
    "We are now going to Tokenise and Pad our training features. This involves a few steps\n",
    "- Create a Tokeniser based on the words in our data\n",
    "- Tokenise our training feature\n",
    "- Pad/Truncate our training feature to a uniform length\n",
    "\n",
    "### Exercise\n",
    "Decide:\n",
    "- how many words you want to be training against (somewhere in the range of 10,000 to 20,000 is good)\n",
    "- the maximum sequence length you want to use\n",
    "\n",
    "Once decided, update the variables below to reflect your choices\n",
    "\n",
    "Depending upon the column you chose as your training feature set the value of the _training_feature_ variable to this name"
   ]
  },
  {
   "cell_type": "code",
   "execution_count": 51,
   "metadata": {},
   "outputs": [],
   "source": [
    "MAX_NUM_WORDS = 20000\n",
    "MAX_SEQUENCE_LENGTH = 100\n",
    "\n",
    "training_feature = 'headline'"
   ]
  },
  {
   "cell_type": "markdown",
   "metadata": {},
   "source": [
    "We are now going to create a tokeniser based on the words in our training feature"
   ]
  },
  {
   "cell_type": "code",
   "execution_count": 53,
   "metadata": {},
   "outputs": [],
   "source": [
    "# Create a tokeniser\n",
    "tokenizer = keras.preprocessing.text.Tokenizer(num_words=MAX_NUM_WORDS)\n",
    "tokenizer.fit_on_texts(data[training_feature])"
   ]
  },
  {
   "cell_type": "markdown",
   "metadata": {},
   "source": [
    "Now we will create the Tokenised versions of our sequences and add them as a column in our dataset"
   ]
  },
  {
   "cell_type": "code",
   "execution_count": 55,
   "metadata": {},
   "outputs": [
    {
     "data": {
      "text/html": [
       "<div>\n",
       "<style scoped>\n",
       "    .dataframe tbody tr th:only-of-type {\n",
       "        vertical-align: middle;\n",
       "    }\n",
       "\n",
       "    .dataframe tbody tr th {\n",
       "        vertical-align: top;\n",
       "    }\n",
       "\n",
       "    .dataframe thead th {\n",
       "        text-align: right;\n",
       "    }\n",
       "</style>\n",
       "<table border=\"1\" class=\"dataframe\">\n",
       "  <thead>\n",
       "    <tr style=\"text-align: right;\">\n",
       "      <th></th>\n",
       "      <th>category</th>\n",
       "      <th>headline</th>\n",
       "      <th>padded_feature_seq</th>\n",
       "    </tr>\n",
       "  </thead>\n",
       "  <tbody>\n",
       "    <tr>\n",
       "      <th>200805</th>\n",
       "      <td>6</td>\n",
       "      <td>This Is Only the Beginning: Surprising Advice ...</td>\n",
       "      <td>[24, 8, 299, 1, 3410, 846, 630, 18, 3, 0, 0, 0...</td>\n",
       "    </tr>\n",
       "    <tr>\n",
       "      <th>200806</th>\n",
       "      <td>4</td>\n",
       "      <td>Cheryl Tiegs In A Sauna: A Look Back</td>\n",
       "      <td>[6174, 5, 3, 3, 115, 95, 0, 0, 0, 0, 0, 0, 0, ...</td>\n",
       "    </tr>\n",
       "    <tr>\n",
       "      <th>200807</th>\n",
       "      <td>2</td>\n",
       "      <td>Teen Responsibility Doesn't Happen -- It's Nur...</td>\n",
       "      <td>[515, 3267, 232, 1238, 103, 0, 0, 0, 0, 0, 0, ...</td>\n",
       "    </tr>\n",
       "    <tr>\n",
       "      <th>200838</th>\n",
       "      <td>0</td>\n",
       "      <td>Sundance, Ice-T, and Shades of the American Ra...</td>\n",
       "      <td>[3453, 1078, 1125, 6, 2367, 4, 1, 144, 298, 5,...</td>\n",
       "    </tr>\n",
       "    <tr>\n",
       "      <th>200839</th>\n",
       "      <td>0</td>\n",
       "      <td>'Girl With the Dragon Tattoo' India Release Ca...</td>\n",
       "      <td>[6252, 11, 1, 7818, 2170, 779, 3577, 35, 1346,...</td>\n",
       "    </tr>\n",
       "  </tbody>\n",
       "</table>\n",
       "</div>"
      ],
      "text/plain": [
       "        category                                           headline  \\\n",
       "200805         6  This Is Only the Beginning: Surprising Advice ...   \n",
       "200806         4               Cheryl Tiegs In A Sauna: A Look Back   \n",
       "200807         2  Teen Responsibility Doesn't Happen -- It's Nur...   \n",
       "200838         0  Sundance, Ice-T, and Shades of the American Ra...   \n",
       "200839         0  'Girl With the Dragon Tattoo' India Release Ca...   \n",
       "\n",
       "                                       padded_feature_seq  \n",
       "200805  [24, 8, 299, 1, 3410, 846, 630, 18, 3, 0, 0, 0...  \n",
       "200806  [6174, 5, 3, 3, 115, 95, 0, 0, 0, 0, 0, 0, 0, ...  \n",
       "200807  [515, 3267, 232, 1238, 103, 0, 0, 0, 0, 0, 0, ...  \n",
       "200838  [3453, 1078, 1125, 6, 2367, 4, 1, 144, 298, 5,...  \n",
       "200839  [6252, 11, 1, 7818, 2170, 779, 3577, 35, 1346,...  "
      ]
     },
     "execution_count": 55,
     "metadata": {},
     "output_type": "execute_result"
    }
   ],
   "source": [
    "# Tokenise the data\n",
    "feature_seq = tokenizer.texts_to_sequences(data[training_feature])\n",
    "\n",
    "# Pad the data\n",
    "feature_seq = keras.preprocessing.sequence.pad_sequences(feature_seq, \n",
    "                                                         padding='post',\n",
    "                                                         truncating='post',\n",
    "                                                         maxlen=MAX_SEQUENCE_LENGTH)\n",
    "\n",
    "# Add the sequences to our data\n",
    "data['padded_feature_seq'] = feature_seq.tolist()\n",
    "data.tail()"
   ]
  },
  {
   "cell_type": "markdown",
   "metadata": {},
   "source": [
    "## Create our Train and Test split\n",
    "We can now split our data into Training and Test datasets"
   ]
  },
  {
   "cell_type": "code",
   "execution_count": 61,
   "metadata": {},
   "outputs": [],
   "source": [
    "# Split the data randomly with a 20% Test set\n",
    "data_train, data_test = train_test_split(data, test_size=0.2)\n",
    "\n",
    "# Create the X and y data for train and test\n",
    "X_train = np.array(data_train['padded_feature_seq'].values)\n",
    "y_train = data_train['category']\n",
    "\n",
    "X_test = np.array(data_test['padded_feature_seq'].values)\n",
    "y_test = data_test['category']"
   ]
  },
  {
   "cell_type": "markdown",
   "metadata": {},
   "source": [
    "# Designing your Model\n",
    "We are now in a position to design our model. The design of this model is up to you but you will need:\n",
    "- An Embedding Layer\n",
    "    - You can train your own using the __Embedding__ layer\n",
    "    - Load and use a Pre-trained Embedding layer using the the __get_embedding_layer()__ function\n",
    "- A Classifer\n",
    "   - You can use a set of Dense Layers\n",
    "   - You can use a set of CNN Layers\n",
    "   - You can use a LSTM Layer\n",
    "\n",
    "Work in your groups to decide which combinations you want to design and complete the cell below with your design"
   ]
  },
  {
   "cell_type": "code",
   "execution_count": 66,
   "metadata": {},
   "outputs": [
    {
     "name": "stdout",
     "output_type": "stream",
     "text": [
      "Model: \"sequential_5\"\n",
      "_________________________________________________________________\n",
      "Layer (type)                 Output Shape              Param #   \n",
      "=================================================================\n",
      "embedding_5 (Embedding)      (None, 100, 100)          2000000   \n",
      "_________________________________________________________________\n",
      "conv1d_4 (Conv1D)            (None, 100, 32)           9632      \n",
      "_________________________________________________________________\n",
      "max_pooling1d_4 (MaxPooling1 (None, 50, 32)            0         \n",
      "_________________________________________________________________\n",
      "flatten_5 (Flatten)          (None, 1600)              0         \n",
      "_________________________________________________________________\n",
      "dense_6 (Dense)              (None, 7)                 11207     \n",
      "=================================================================\n",
      "Total params: 2,020,839\n",
      "Trainable params: 20,839\n",
      "Non-trainable params: 2,000,000\n",
      "_________________________________________________________________\n"
     ]
    }
   ],
   "source": [
    "# Classification using CNN\n",
    "model = keras.Sequential()\n",
    "\n",
    "# Input Layer\n",
    "model.add(keras.layers.Input(shape=(MAX_SEQUENCE_LENGTH,), dtype='int32'))\n",
    "# TODO: Your Choice of Embedding layer here\n",
    "model.add( get_embedding_layer())\n",
    "\n",
    "# Hidden Layers\n",
    "# TODO: Your Choice of Classifier here\n",
    "#model.add(keras.layers.LSTM(units = 50))\n",
    "model.add(keras.layers.Conv1D(filters=32, kernel_size=3, padding=\"same\", activation=\"relu\"))\n",
    "model.add(keras.layers.MaxPooling1D(pool_size=2))\n",
    "\n",
    "# Output Layer\n",
    "model.add(tf.keras.layers.Flatten())\n",
    "model.add(keras.layers.Dense(len(category_labels), activation=tf.nn.sigmoid))\n",
    "\n",
    "# Compile the model\n",
    "model.compile(optimizer='adam',\n",
    "              loss='sparse_categorical_crossentropy',\n",
    "              metrics=['acc'])\n",
    "\n",
    "# Print the Summary of the model\n",
    "model.summary()"
   ]
  },
  {
   "cell_type": "markdown",
   "metadata": {},
   "source": [
    "# Train your model\n",
    "You should now be able to train your model.\n",
    "\n",
    "## Exercise\n",
    "Decide on \n",
    "- The maximum number of epochs you want to train for\n",
    "    - We are using Early Stopping so this is the maxium number of epochs - we are likely to stop before reaching this...but you never know\n",
    "- How patient you want to be above stopping\n",
    "    - the higher the number the more patient you are and more likely to train for the full max epochs"
   ]
  },
  {
   "cell_type": "code",
   "execution_count": 68,
   "metadata": {},
   "outputs": [
    {
     "name": "stdout",
     "output_type": "stream",
     "text": [
      "Train on 64979 samples, validate on 16245 samples\n",
      "Epoch 1/50\n",
      "64979/64979 [==============================] - 18s 272us/sample - loss: 1.7820 - acc: 0.3215 - val_loss: 1.8109 - val_acc: 0.3281\n",
      "Epoch 2/50\n",
      "64979/64979 [==============================] - 15s 236us/sample - loss: 1.7758 - acc: 0.3219 - val_loss: 1.8179 - val_acc: 0.3275\n",
      "Epoch 3/50\n",
      "64979/64979 [==============================] - 14s 222us/sample - loss: 1.7691 - acc: 0.3225 - val_loss: 1.8245 - val_acc: 0.3244\n",
      "Epoch 4/50\n",
      "64979/64979 [==============================] - 21s 323us/sample - loss: 1.7630 - acc: 0.3230 - val_loss: 1.8258 - val_acc: 0.3216\n",
      "Epoch 5/50\n",
      "64979/64979 [==============================] - 19s 294us/sample - loss: 1.7561 - acc: 0.3237 - val_loss: 1.8354 - val_acc: 0.3197\n",
      "Epoch 6/50\n",
      "64979/64979 [==============================] - 18s 270us/sample - loss: 1.7504 - acc: 0.3253 - val_loss: 1.8410 - val_acc: 0.3132\n",
      "Epoch 7/50\n",
      "64979/64979 [==============================] - 17s 267us/sample - loss: 1.7458 - acc: 0.3258 - val_loss: 1.8464 - val_acc: 0.3079\n",
      "Epoch 8/50\n",
      "64979/64979 [==============================] - 11s 172us/sample - loss: 1.7402 - acc: 0.3279 - val_loss: 1.8530 - val_acc: 0.3130\n",
      "Epoch 9/50\n",
      "64979/64979 [==============================] - 18s 273us/sample - loss: 1.7364 - acc: 0.3290 - val_loss: 1.8564 - val_acc: 0.3053\n",
      "Epoch 10/50\n",
      "64979/64979 [==============================] - 23s 362us/sample - loss: 1.7317 - acc: 0.3311 - val_loss: 1.8633 - val_acc: 0.3081\n",
      "Epoch 11/50\n",
      "64979/64979 [==============================] - 20s 312us/sample - loss: 1.7282 - acc: 0.3325 - val_loss: 1.8653 - val_acc: 0.3043\n",
      "Training Done\n"
     ]
    }
   ],
   "source": [
    "# TODO:\n",
    "# Decide how many epochs to train for\n",
    "# Decide how much patience we should have before deciding to stop early\n",
    "max_epochs = 50\n",
    "stopping_patience = 10\n",
    "\n",
    "# Stop early if our Validation Loss stagnates\n",
    "early_stop = keras.callbacks.EarlyStopping(monitor='val_loss', patience=stopping_patience)\n",
    "\n",
    "# Train our model\n",
    "history = model.fit(X_train_padded,\n",
    "                    y_train,\n",
    "                    epochs=max_epochs,\n",
    "                    batch_size=512,\n",
    "                    validation_split = 0.2,\n",
    "                   callbacks=[early_stop])\n",
    "print(\"Training Done\")"
   ]
  },
  {
   "cell_type": "code",
   "execution_count": 76,
   "metadata": {},
   "outputs": [
    {
     "data": {
      "image/png": "[encoded data removed]",
      "text/plain": [
       "<Figure size 432x288 with 1 Axes>"
      ]
     },
     "metadata": {
      "needs_background": "light"
     },
     "output_type": "display_data"
    },
    {
     "data": {
      "image/png": "[encoded data removed]",
      "text/plain": [
       "<Figure size 432x288 with 1 Axes>"
      ]
     },
     "metadata": {
      "needs_background": "light"
     },
     "output_type": "display_data"
    }
   ],
   "source": [
    "printLossAndAccuracy(history)"
   ]
  },
  {
   "cell_type": "markdown",
   "metadata": {},
   "source": [
    "# Evaluate the model\n",
    "We will now evaluate our model against a set of previously unseen reviews"
   ]
  },
  {
   "cell_type": "code",
   "execution_count": 15,
   "metadata": {},
   "outputs": [],
   "source": [
    "val_loss, val_acc = model.evaluate(X_test_padded, y_test)\n",
    "\n",
    "print (\"Test Loss:\", val_loss)\n",
    "print (\"Test Accuracy:\", val_acc)"
   ]
  },
  {
   "cell_type": "markdown",
   "metadata": {},
   "source": [
    "### Exercise\n",
    "In your teams, consider the task we have been working on (classifying News Headlines into Categories) and consider the following questions:\n",
    "\n",
    "- What would be the Human Level Performance for this task? \n",
    "- How did your model do compared to that expectation?\n",
    "- Within your team, what worked wel and want didn't work well?\n",
    " \n",
    " \n",
    "If your model hasn't performed as well as you think it could have then consider:\n",
    "- Training for longer (but watch for overfitting)\n",
    "- Train with a different network design\n",
    "- Think about how you might be able to Engineer better features to train with\n",
    "\n",
    "Try one or more of these out by rerunning the relevant workbook cells "
   ]
  },
  {
   "cell_type": "markdown",
   "metadata": {},
   "source": [
    "# Test the model\n",
    "# Testing your model\n",
    "Testing a model is different to evaluating a model - with evaluation we are measuring how good the model is against the data. With testing we are interested in evaluating risks that might affect the model.\n",
    "\n",
    "## Exercise\n",
    "Consider the purpose of our model, which is to predict the category for a News Article based on the header/summary. Our Evaluation on the model has given us a measure of accuracy but is that enough?\n",
    "\n",
    "In this exercise, work in your teams to build an outline Test Strategy/Approach for the model. In particular consider:\n",
    "- What are the product risk associated with the Model\n",
    "- What additional testing would you recommend? \n",
    "    - See section below on Hypothosis Testing for one possible approach\n",
    "- What Oracles could you use to check your model's predictions against?\n",
    "- How should you evaluate your predictions?\n",
    "\n",
    "### Hypothosis Testing\n",
    "One approach to consider is to think in terms of what Hypotheses you have about the problem domain. These are statements you think should be true about the model's predictions such as:\n",
    "- Headlines that have known politicians and use political words should be classes as Politics \n",
    "\n",
    "Sometimes these are known as _Good-old Fashioned Common Sense_ tests - things that ought to be true and we want to test our model to ensure it is consistent with these views.\n",
    "\n",
    "If you think about the problem domain you can probably come up with a number of such hypotheses.\n",
    "\n",
    "For each Hypothosis:\n",
    " - Consider how you would test it - what tests, how many is enough\n",
    " - How you evaluate the outcome of a test - should we look at the most probable category or look at the top 2 or 3 most probable?"
   ]
  },
  {
   "cell_type": "markdown",
   "metadata": {},
   "source": [
    "## Exercise\n",
    "Use the cell below to run some of your tests and evaluate the results"
   ]
  },
  {
   "cell_type": "code",
   "execution_count": 107,
   "metadata": {},
   "outputs": [
    {
     "name": "stdout",
     "output_type": "stream",
     "text": [
      "Most likely to be POLITICS with 0.387743 likelihood\n",
      "ENTERTAINMENT       : 0.153675\n",
      "HEALTHY LIVING      : 0.049271\n",
      "PARENTING           : 0.073804\n",
      "POLITICS            : 0.387743\n",
      "STYLE & BEAUTY      : 0.080889\n",
      "TRAVEL              : 0.023323\n",
      "WELLNESS            : 0.331522\n"
     ]
    }
   ],
   "source": [
    "# Enter your test text\n",
    "test_text = \"BBC's decision to reprimand Naga Munchetty sparks backlash from stars\"\n",
    "\n",
    "# Prepare text sequence (tokenise and padd)\n",
    "test_seq = prepare_test_seq(test_text)\n",
    "\n",
    "# Make a prediction\n",
    "preds = model.predict(prepare_test_seq(test_text))\n",
    "\n",
    "# Output Results\n",
    "output_most_likely(category_labels, preds[0])\n",
    "output_category_probs(category_labels, preds[0])"
   ]
  },
  {
   "cell_type": "markdown",
   "metadata": {},
   "source": [
    "## Exercise\n",
    "In your teams, prepre a short report (5-8 mins) that outlines:\n",
    "- The model you found worked best\n",
    "- Your Testing Strategy\n",
    "- Your Key Findings\n",
    "\n",
    "We will then present to each other and debrief"
   ]
  }
 ],
 "metadata": {
  "kernelspec": {
   "display_name": "Python 3",
   "language": "python",
   "name": "python3"
  },
  "language_info": {
   "codemirror_mode": {
    "name": "ipython",
    "version": 3
   },
   "file_extension": ".py",
   "mimetype": "text/x-python",
   "name": "python",
   "nbconvert_exporter": "python",
   "pygments_lexer": "ipython3",
   "version": "3.7.3"
  }
 },
 "nbformat": 4,
 "nbformat_minor": 2
}

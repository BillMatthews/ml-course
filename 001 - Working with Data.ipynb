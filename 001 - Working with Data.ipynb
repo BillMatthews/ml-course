{
 "cells": [
  {
   "cell_type": "markdown",
   "metadata": {},
   "source": [
    "# 002 - Feature Engineering and Data Pre-Processing\n",
    "This workbook introduces you to the basics of Feature Engineering\n",
    "\n",
    "## What is a Feature\n",
    "With Deep Learning we provide a model with a set of _training examples_ (or instances); each example contains a set of data related to that example.\n",
    "\n",
    "For example, consider the following data that we could use to train a model:\n",
    "\n",
    "|temperature|month|day|rain|snow|wind speed|wind direction|\n",
    "|---|---|---|---|---|---|---|\n",
    "|15|September|21|0|0|5|SW|\n",
    "|9|September|22|2|0|16|SW|\n",
    "|21|September|23|4|0|5|NE|\n",
    "\n",
    "If we were building a model to preduct the temperature (the __target__) we could use the data in the other columns to make that prediction. The columns _month_, _day_, _rain_, _snow_, _wind speed_ and _wind direction_ are all __Features__\n",
    "\n",
    "Each row is a training sample and each sample has the same set of Features."
   ]
  },
  {
   "cell_type": "markdown",
   "metadata": {},
   "source": [
    "## Why Engineer Features?\n",
    "Usually when we talk about Feature Engineering we are concerned with using our existing knowedlge about the Domain to create new Features to aid learning. This knowledge can reduce the complexity of the data.\n",
    "\n",
    "For example, consider a model where we want to predict the time it will take to travel between 2 points in a city based on the time of the year, time of the day and the GPS co-ordinates for the pick-up and drop-off locations. \n",
    "\n",
    "As Domain Experts we might look at the available data and decide that to aid learning we probably need some additional Features such as:\n",
    "* the distance between the pick-up and drop-off points. We don't have the route but we can estimate this based on the distance between the two points. The road network in the city is quite dense so this is a good approximation.\n",
    "* Pick-up & Drop Off Zones since the the GPS co-ordinates are quite accurate but in reality there is little difference between a pick-ups that are close to each other (e.g. within 100m). Uncovering a releationship using the fine grained GPS co-ordinates may be problematic. So we could Zone or sectorise the map in some way and engineer a higher level feature for each trip as a zone to zone trip rather than GPS to GPS. This might be just as accurate for the job and we could then simplify our data by removing the GPS co-ordinates from the training Features.\n",
    "\n",
    "While Feature Engineering seems like a good idea, there is a risk that by doing this we loose an oppertunity to uncover some new relationships or bias the learned model to existing (possibly outdated) domain models."
   ]
  },
  {
   "cell_type": "markdown",
   "metadata": {},
   "source": [
    "## Pre-processing data\n",
    "Real-world data is messy and comes in a variety of forms, not all of which are useful for Machine Learning and so it's often the case that we need to perform some Data Pre-Processing before we can use the data for learning.\n",
    "\n",
    "Common Pre-Processing tasks include:\n",
    "* Getting rid of data that is not relevant to the task\n",
    "* Converting Categorical Data into a numerical representation\n",
    "* Normalising numerical data so it has similar scales and shapes\n",
    "* Dealing with missing data for features\n",
    "* Encoding non-numerical data (e.g. words) into a numerical format\n",
    "\n",
    "What ever processing we do for the training data we must remember to do the same pre-processing on data we use to test and evaluate our model."
   ]
  },
  {
   "cell_type": "markdown",
   "metadata": {},
   "source": [
    "## Exercises\n",
    "This workbook contains a set of exercises designed to show both Feature Engineering and Data Pre-Processing in action.\n",
    "\n",
    "Since, this course does not expect development skills in Python you will not be expected to write the feature engineering or data pre-processing methods yourself. However you will want to be able to recognise what needs to be done and use pre-created functions during future exercises."
   ]
  },
  {
   "cell_type": "code",
   "execution_count": 6,
   "metadata": {},
   "outputs": [],
   "source": [
    "import pandas as pd\n",
    "import matplotlib.pyplot as plt \n",
    "import numpy as np\n",
    "import tensorflow as tf\n",
    "import os"
   ]
  },
  {
   "cell_type": "markdown",
   "metadata": {},
   "source": [
    "## Get our dataset\n",
    "We have a data set containing a range of values to experiment with Feature Engineering and Data Pre-processing.\n",
    "We are using the __Pandas__ library to perfom our data pre-processing since it contains various functions to help with data pre-processing and feature engineering."
   ]
  },
  {
   "cell_type": "code",
   "execution_count": 9,
   "metadata": {},
   "outputs": [
    {
     "name": "stdout",
     "output_type": "stream",
     "text": [
      "C:\\Users\\Bill\\.keras\\datasets\\taxi\\taxi.csv\n"
     ]
    },
    {
     "ename": "FileNotFoundError",
     "evalue": "[Errno 2] File b'taxi.csv' does not exist: b'taxi.csv'",
     "output_type": "error",
     "traceback": [
      "\u001b[1;31m---------------------------------------------------------------------------\u001b[0m",
      "\u001b[1;31mFileNotFoundError\u001b[0m                         Traceback (most recent call last)",
      "\u001b[1;32m<ipython-input-9-78e6764ff9df>\u001b[0m in \u001b[0;36m<module>\u001b[1;34m\u001b[0m\n\u001b[0;32m      5\u001b[0m \u001b[0mdata_file\u001b[0m \u001b[1;33m=\u001b[0m \u001b[0mos\u001b[0m\u001b[1;33m.\u001b[0m\u001b[0mpath\u001b[0m\u001b[1;33m.\u001b[0m\u001b[0mjoin\u001b[0m\u001b[1;33m(\u001b[0m\u001b[0mbase_dir\u001b[0m\u001b[1;33m,\u001b[0m \u001b[1;34m'taxi.csv'\u001b[0m\u001b[1;33m)\u001b[0m\u001b[1;33m\u001b[0m\u001b[1;33m\u001b[0m\u001b[0m\n\u001b[0;32m      6\u001b[0m \u001b[0mprint\u001b[0m\u001b[1;33m(\u001b[0m\u001b[0mdata_file\u001b[0m\u001b[1;33m)\u001b[0m\u001b[1;33m\u001b[0m\u001b[1;33m\u001b[0m\u001b[0m\n\u001b[1;32m----> 7\u001b[1;33m \u001b[0mdata\u001b[0m \u001b[1;33m=\u001b[0m \u001b[0mpd\u001b[0m\u001b[1;33m.\u001b[0m\u001b[0mread_csv\u001b[0m\u001b[1;33m(\u001b[0m\u001b[1;34m\"taxi.csv\"\u001b[0m\u001b[1;33m,\u001b[0m \u001b[0mparse_dates\u001b[0m\u001b[1;33m=\u001b[0m\u001b[1;33m[\u001b[0m\u001b[1;34m'pickup_datetime'\u001b[0m\u001b[1;33m]\u001b[0m\u001b[1;33m,\u001b[0m\u001b[1;33m)\u001b[0m\u001b[1;33m\u001b[0m\u001b[1;33m\u001b[0m\u001b[0m\n\u001b[0m\u001b[0;32m      8\u001b[0m \u001b[0mdata\u001b[0m\u001b[1;33m.\u001b[0m\u001b[0mhead\u001b[0m\u001b[1;33m(\u001b[0m\u001b[1;33m)\u001b[0m\u001b[1;33m\u001b[0m\u001b[1;33m\u001b[0m\u001b[0m\n",
      "\u001b[1;32m~\\Anaconda3\\envs\\ai\\lib\\site-packages\\pandas\\io\\parsers.py\u001b[0m in \u001b[0;36mparser_f\u001b[1;34m(filepath_or_buffer, sep, delimiter, header, names, index_col, usecols, squeeze, prefix, mangle_dupe_cols, dtype, engine, converters, true_values, false_values, skipinitialspace, skiprows, skipfooter, nrows, na_values, keep_default_na, na_filter, verbose, skip_blank_lines, parse_dates, infer_datetime_format, keep_date_col, date_parser, dayfirst, iterator, chunksize, compression, thousands, decimal, lineterminator, quotechar, quoting, doublequote, escapechar, comment, encoding, dialect, tupleize_cols, error_bad_lines, warn_bad_lines, delim_whitespace, low_memory, memory_map, float_precision)\u001b[0m\n\u001b[0;32m    700\u001b[0m                     skip_blank_lines=skip_blank_lines)\n\u001b[0;32m    701\u001b[0m \u001b[1;33m\u001b[0m\u001b[0m\n\u001b[1;32m--> 702\u001b[1;33m         \u001b[1;32mreturn\u001b[0m \u001b[0m_read\u001b[0m\u001b[1;33m(\u001b[0m\u001b[0mfilepath_or_buffer\u001b[0m\u001b[1;33m,\u001b[0m \u001b[0mkwds\u001b[0m\u001b[1;33m)\u001b[0m\u001b[1;33m\u001b[0m\u001b[1;33m\u001b[0m\u001b[0m\n\u001b[0m\u001b[0;32m    703\u001b[0m \u001b[1;33m\u001b[0m\u001b[0m\n\u001b[0;32m    704\u001b[0m     \u001b[0mparser_f\u001b[0m\u001b[1;33m.\u001b[0m\u001b[0m__name__\u001b[0m \u001b[1;33m=\u001b[0m \u001b[0mname\u001b[0m\u001b[1;33m\u001b[0m\u001b[1;33m\u001b[0m\u001b[0m\n",
      "\u001b[1;32m~\\Anaconda3\\envs\\ai\\lib\\site-packages\\pandas\\io\\parsers.py\u001b[0m in \u001b[0;36m_read\u001b[1;34m(filepath_or_buffer, kwds)\u001b[0m\n\u001b[0;32m    427\u001b[0m \u001b[1;33m\u001b[0m\u001b[0m\n\u001b[0;32m    428\u001b[0m     \u001b[1;31m# Create the parser.\u001b[0m\u001b[1;33m\u001b[0m\u001b[1;33m\u001b[0m\u001b[1;33m\u001b[0m\u001b[0m\n\u001b[1;32m--> 429\u001b[1;33m     \u001b[0mparser\u001b[0m \u001b[1;33m=\u001b[0m \u001b[0mTextFileReader\u001b[0m\u001b[1;33m(\u001b[0m\u001b[0mfilepath_or_buffer\u001b[0m\u001b[1;33m,\u001b[0m \u001b[1;33m**\u001b[0m\u001b[0mkwds\u001b[0m\u001b[1;33m)\u001b[0m\u001b[1;33m\u001b[0m\u001b[1;33m\u001b[0m\u001b[0m\n\u001b[0m\u001b[0;32m    430\u001b[0m \u001b[1;33m\u001b[0m\u001b[0m\n\u001b[0;32m    431\u001b[0m     \u001b[1;32mif\u001b[0m \u001b[0mchunksize\u001b[0m \u001b[1;32mor\u001b[0m \u001b[0miterator\u001b[0m\u001b[1;33m:\u001b[0m\u001b[1;33m\u001b[0m\u001b[1;33m\u001b[0m\u001b[0m\n",
      "\u001b[1;32m~\\Anaconda3\\envs\\ai\\lib\\site-packages\\pandas\\io\\parsers.py\u001b[0m in \u001b[0;36m__init__\u001b[1;34m(self, f, engine, **kwds)\u001b[0m\n\u001b[0;32m    893\u001b[0m             \u001b[0mself\u001b[0m\u001b[1;33m.\u001b[0m\u001b[0moptions\u001b[0m\u001b[1;33m[\u001b[0m\u001b[1;34m'has_index_names'\u001b[0m\u001b[1;33m]\u001b[0m \u001b[1;33m=\u001b[0m \u001b[0mkwds\u001b[0m\u001b[1;33m[\u001b[0m\u001b[1;34m'has_index_names'\u001b[0m\u001b[1;33m]\u001b[0m\u001b[1;33m\u001b[0m\u001b[1;33m\u001b[0m\u001b[0m\n\u001b[0;32m    894\u001b[0m \u001b[1;33m\u001b[0m\u001b[0m\n\u001b[1;32m--> 895\u001b[1;33m         \u001b[0mself\u001b[0m\u001b[1;33m.\u001b[0m\u001b[0m_make_engine\u001b[0m\u001b[1;33m(\u001b[0m\u001b[0mself\u001b[0m\u001b[1;33m.\u001b[0m\u001b[0mengine\u001b[0m\u001b[1;33m)\u001b[0m\u001b[1;33m\u001b[0m\u001b[1;33m\u001b[0m\u001b[0m\n\u001b[0m\u001b[0;32m    896\u001b[0m \u001b[1;33m\u001b[0m\u001b[0m\n\u001b[0;32m    897\u001b[0m     \u001b[1;32mdef\u001b[0m \u001b[0mclose\u001b[0m\u001b[1;33m(\u001b[0m\u001b[0mself\u001b[0m\u001b[1;33m)\u001b[0m\u001b[1;33m:\u001b[0m\u001b[1;33m\u001b[0m\u001b[1;33m\u001b[0m\u001b[0m\n",
      "\u001b[1;32m~\\Anaconda3\\envs\\ai\\lib\\site-packages\\pandas\\io\\parsers.py\u001b[0m in \u001b[0;36m_make_engine\u001b[1;34m(self, engine)\u001b[0m\n\u001b[0;32m   1120\u001b[0m     \u001b[1;32mdef\u001b[0m \u001b[0m_make_engine\u001b[0m\u001b[1;33m(\u001b[0m\u001b[0mself\u001b[0m\u001b[1;33m,\u001b[0m \u001b[0mengine\u001b[0m\u001b[1;33m=\u001b[0m\u001b[1;34m'c'\u001b[0m\u001b[1;33m)\u001b[0m\u001b[1;33m:\u001b[0m\u001b[1;33m\u001b[0m\u001b[1;33m\u001b[0m\u001b[0m\n\u001b[0;32m   1121\u001b[0m         \u001b[1;32mif\u001b[0m \u001b[0mengine\u001b[0m \u001b[1;33m==\u001b[0m \u001b[1;34m'c'\u001b[0m\u001b[1;33m:\u001b[0m\u001b[1;33m\u001b[0m\u001b[1;33m\u001b[0m\u001b[0m\n\u001b[1;32m-> 1122\u001b[1;33m             \u001b[0mself\u001b[0m\u001b[1;33m.\u001b[0m\u001b[0m_engine\u001b[0m \u001b[1;33m=\u001b[0m \u001b[0mCParserWrapper\u001b[0m\u001b[1;33m(\u001b[0m\u001b[0mself\u001b[0m\u001b[1;33m.\u001b[0m\u001b[0mf\u001b[0m\u001b[1;33m,\u001b[0m \u001b[1;33m**\u001b[0m\u001b[0mself\u001b[0m\u001b[1;33m.\u001b[0m\u001b[0moptions\u001b[0m\u001b[1;33m)\u001b[0m\u001b[1;33m\u001b[0m\u001b[1;33m\u001b[0m\u001b[0m\n\u001b[0m\u001b[0;32m   1123\u001b[0m         \u001b[1;32melse\u001b[0m\u001b[1;33m:\u001b[0m\u001b[1;33m\u001b[0m\u001b[1;33m\u001b[0m\u001b[0m\n\u001b[0;32m   1124\u001b[0m             \u001b[1;32mif\u001b[0m \u001b[0mengine\u001b[0m \u001b[1;33m==\u001b[0m \u001b[1;34m'python'\u001b[0m\u001b[1;33m:\u001b[0m\u001b[1;33m\u001b[0m\u001b[1;33m\u001b[0m\u001b[0m\n",
      "\u001b[1;32m~\\Anaconda3\\envs\\ai\\lib\\site-packages\\pandas\\io\\parsers.py\u001b[0m in \u001b[0;36m__init__\u001b[1;34m(self, src, **kwds)\u001b[0m\n\u001b[0;32m   1851\u001b[0m         \u001b[0mkwds\u001b[0m\u001b[1;33m[\u001b[0m\u001b[1;34m'usecols'\u001b[0m\u001b[1;33m]\u001b[0m \u001b[1;33m=\u001b[0m \u001b[0mself\u001b[0m\u001b[1;33m.\u001b[0m\u001b[0musecols\u001b[0m\u001b[1;33m\u001b[0m\u001b[1;33m\u001b[0m\u001b[0m\n\u001b[0;32m   1852\u001b[0m \u001b[1;33m\u001b[0m\u001b[0m\n\u001b[1;32m-> 1853\u001b[1;33m         \u001b[0mself\u001b[0m\u001b[1;33m.\u001b[0m\u001b[0m_reader\u001b[0m \u001b[1;33m=\u001b[0m \u001b[0mparsers\u001b[0m\u001b[1;33m.\u001b[0m\u001b[0mTextReader\u001b[0m\u001b[1;33m(\u001b[0m\u001b[0msrc\u001b[0m\u001b[1;33m,\u001b[0m \u001b[1;33m**\u001b[0m\u001b[0mkwds\u001b[0m\u001b[1;33m)\u001b[0m\u001b[1;33m\u001b[0m\u001b[1;33m\u001b[0m\u001b[0m\n\u001b[0m\u001b[0;32m   1854\u001b[0m         \u001b[0mself\u001b[0m\u001b[1;33m.\u001b[0m\u001b[0munnamed_cols\u001b[0m \u001b[1;33m=\u001b[0m \u001b[0mself\u001b[0m\u001b[1;33m.\u001b[0m\u001b[0m_reader\u001b[0m\u001b[1;33m.\u001b[0m\u001b[0munnamed_cols\u001b[0m\u001b[1;33m\u001b[0m\u001b[1;33m\u001b[0m\u001b[0m\n\u001b[0;32m   1855\u001b[0m \u001b[1;33m\u001b[0m\u001b[0m\n",
      "\u001b[1;32mpandas/_libs/parsers.pyx\u001b[0m in \u001b[0;36mpandas._libs.parsers.TextReader.__cinit__\u001b[1;34m()\u001b[0m\n",
      "\u001b[1;32mpandas/_libs/parsers.pyx\u001b[0m in \u001b[0;36mpandas._libs.parsers.TextReader._setup_parser_source\u001b[1;34m()\u001b[0m\n",
      "\u001b[1;31mFileNotFoundError\u001b[0m: [Errno 2] File b'taxi.csv' does not exist: b'taxi.csv'"
     ]
    }
   ],
   "source": [
    "zip_file = tf.keras.utils.get_file(origin=\"https://github.com/BillMatthews/ml-course/blob/master/taxi.zip\",\n",
    "                                    fname=\"taxi.zip\", extract=True)\n",
    "\n",
    "base_dir, _ = os.path.splitext(zip_file)\n",
    "data_file = os.path.join(base_dir, 'taxi.csv')\n",
    "print(data_file)\n",
    "data = pd.read_csv(\"taxi.csv\", parse_dates=['pickup_datetime'],)\n",
    "data.head()"
   ]
  },
  {
   "cell_type": "markdown",
   "metadata": {},
   "source": [
    "## Data Preprocessing exercises\n",
    "### Exercise: Dealing with missing data\n",
    "First we want to see if there are is any missing data. \n",
    "\n",
    "We can use the _Pandas_ __isnull()__ method to determine this and group by feature using the following command.\n"
   ]
  },
  {
   "cell_type": "markdown",
   "metadata": {},
   "source": [
    "We can see that there are 5 training examples where the _dropoff_longitude_ or _dropoff_latitude_ contain null values. These are not going to be any use to us.\n",
    "\n",
    "We generally have 4 options:\n",
    "* Delete the rows with null data\n",
    "* Remove the feature from the dataset\n",
    "* Replace the null values with some suitable value (e.g. some median/average value)\n",
    "* Replace the null values with some predicted value (e.g. use another model to predict the likely value)\n",
    "\n",
    "Each of these are appropraite methods for dealing with null data. As a hueristic:\n",
    "- if the number of rows is small (compared to the overall data set), then deleting the values is usally appropriate.\n",
    "   - this is the most straightforward option but reduces the amount of data available for training\n",
    "- If you have a large number of missing values for a feature, consider removing the feature\n",
    "    - this is straightforward to do but if the presence of the data is important to the model then our model may not be as accurate.\n",
    "- If we can approximate or predict a value then do this\n",
    "    - depending upon the number of missing values this might bias the learning."
   ]
  },
  {
   "cell_type": "markdown",
   "metadata": {},
   "source": [
    "__Question:__ What should we do about the the training samples with null values? Can we easily predict/estimate values for these?\n"
   ]
  },
  {
   "cell_type": "code",
   "execution_count": 3,
   "metadata": {},
   "outputs": [
    {
     "name": "stdout",
     "output_type": "stream",
     "text": [
      "key                  0\n",
      "fare_amount          0\n",
      "pickup_datetime      0\n",
      "pickup_longitude     0\n",
      "pickup_latitude      0\n",
      "dropoff_longitude    5\n",
      "dropoff_latitude     5\n",
      "passenger_count      0\n",
      "dtype: int64\n",
      "\n",
      "Total samples: 500000\n"
     ]
    }
   ],
   "source": [
    "print(data.isnull().sum())\n",
    "\n",
    "print(\"\\nTotal samples: {}\".format(data.shape[0]))"
   ]
  },
  {
   "cell_type": "markdown",
   "metadata": {},
   "source": [
    "In our example we will drop these values - but make sure you understand why"
   ]
  },
  {
   "cell_type": "code",
   "execution_count": 4,
   "metadata": {},
   "outputs": [
    {
     "name": "stdout",
     "output_type": "stream",
     "text": [
      "key                  0\n",
      "fare_amount          0\n",
      "pickup_datetime      0\n",
      "pickup_longitude     0\n",
      "pickup_latitude      0\n",
      "dropoff_longitude    0\n",
      "dropoff_latitude     0\n",
      "passenger_count      0\n",
      "dtype: int64\n",
      "\n",
      "Total samples: 499995\n"
     ]
    }
   ],
   "source": [
    "# This will drop any rows with nulls\n",
    "data = data.dropna()\n",
    "\n",
    "print(data.isnull().sum())\n",
    "print(\"\\nTotal samples: {}\".format(data.shape[0]))"
   ]
  },
  {
   "cell_type": "markdown",
   "metadata": {},
   "source": [
    "### Dealing with invalid data\n",
    "If we summarise our data we can see that there are some issues with the data:\n",
    "\n",
    "Similar to dealing with null values, we can deal with invalid data in one of 4 ways:\n",
    "- Delete the rows with invalid data\n",
    "- Remove the feature from the dataset\n",
    "- Replace the null values with some suitable value (e.g. some median/average value)\n",
    "- Replace the null values with some predicted value (e.g. use another model to predict the likely value)\n",
    "\n",
    "__Question__: what problems do you see in the data - hint, look at the min and max values for each feature.\n",
    "\n",
    "__Question__: Of the above options, how do you think we should deal with the invalid data for each Feature?"
   ]
  },
  {
   "cell_type": "code",
   "execution_count": 5,
   "metadata": {},
   "outputs": [
    {
     "name": "stdout",
     "output_type": "stream",
     "text": [
      "         fare_amount  pickup_longitude  pickup_latitude  dropoff_longitude  \\\n",
      "count  499995.000000     499995.000000    499995.000000      499995.000000   \n",
      "mean       11.358182        -72.520091        39.920350         -72.522435   \n",
      "std         9.916069         11.856446         8.073318          11.797362   \n",
      "min       -44.900000      -2986.242495     -3116.285383       -3383.296608   \n",
      "25%         6.000000        -73.992047        40.734916         -73.991382   \n",
      "50%         8.500000        -73.981785        40.752670         -73.980126   \n",
      "75%        12.500000        -73.967117        40.767076         -73.963572   \n",
      "max       500.000000       2140.601160      1703.092772          40.851027   \n",
      "\n",
      "       dropoff_latitude  passenger_count  \n",
      "count     499995.000000    499995.000000  \n",
      "mean          39.916526         1.683445  \n",
      "std            7.391002         1.307391  \n",
      "min        -2559.748913         0.000000  \n",
      "25%           40.734057         1.000000  \n",
      "50%           40.753152         1.000000  \n",
      "75%           40.768135         2.000000  \n",
      "max          404.616667         6.000000  \n"
     ]
    }
   ],
   "source": [
    "print(data.describe())"
   ]
  },
  {
   "cell_type": "markdown",
   "metadata": {},
   "source": [
    "### Dealing with invalid fares\n",
    "The __fare_amount__ has a range between $-44.9 and $500. It is clear that any fare below 0 is invalid; in fact there is usaully an initial charge for a taxi (approx $2.5) so it's likely that any fares below that figure are invalid. \n",
    "\n",
    "We could also argue that very large fares are also _potentially_ invalid and so we may want to limit our range to fares that are below some value such as $50.00.\n",
    "\n",
    "We could replace these with the mean value (£11.35) but since the fare is likely to be related to the distance travelled we might skew the results if we follow a replacement strategy like this.\n",
    "\n",
    "So let's check how many fares are below $2.50 and see if we can safely drop these rows."
   ]
  },
  {
   "cell_type": "code",
   "execution_count": 6,
   "metadata": {},
   "outputs": [
    {
     "name": "stdout",
     "output_type": "stream",
     "text": [
      "41\n"
     ]
    }
   ],
   "source": [
    "print (data[data['fare_amount'] < 2.5].shape[0])"
   ]
  },
  {
   "cell_type": "code",
   "execution_count": 7,
   "metadata": {},
   "outputs": [
    {
     "name": "stdout",
     "output_type": "stream",
     "text": [
      "\n",
      "Total samples: 499954\n"
     ]
    }
   ],
   "source": [
    "# There are only 41 records (out of nearly 0.5 million) so let's delete these\n",
    "data = data[data['fare_amount'] >= 2.5]\n",
    "print(\"\\nTotal samples: {}\".format(data.shape[0]))"
   ]
  },
  {
   "cell_type": "markdown",
   "metadata": {},
   "source": [
    "### Dealing with invalid Longitude and Latitudes\n",
    "The data is from New York City which exists between approximately:\n",
    "- Longitude -74.05 and -73.75\n",
    "- Latitude 40.63 and 40.85\n",
    "\n",
    "However looking at the stats from the data we have data that is considerably outside this and actually invalid (long and lat values are in the range -90 to +90). So we can consider anything outside of these as invalid.\n",
    "\n",
    "It's unlikely that we can provide reasonable defaults or estimate these and additionally we need these to determine the distance travelled. Therefore we need to consider deleting these records."
   ]
  },
  {
   "cell_type": "code",
   "execution_count": 8,
   "metadata": {},
   "outputs": [
    {
     "name": "stdout",
     "output_type": "stream",
     "text": [
      "Outside NYC longitude: 16488\n",
      "Percentage outside NYC longitude: 3.297903\n"
     ]
    }
   ],
   "source": [
    "# range of longitude for NYC\n",
    "nyc_min_longitude = -74.05\n",
    "nyc_max_longitude = -73.75\n",
    "\n",
    "# range of latitude for NYC\n",
    "nyc_min_latitude = 40.63\n",
    "nyc_max_latitude = 40.85\n",
    "\n",
    "# The processing to strip out long and lat is complex so we will create a function to do this\n",
    "def get_NYC_records_only(dataset):\n",
    "    # Create a copy and leave the original alone\n",
    "    df2 = dataset.copy(deep=True)\n",
    "\n",
    "    for long in ['pickup_longitude', 'dropoff_longitude']:\n",
    "        df2 = df2[(df2[long] > nyc_min_longitude) & (df2[long] < nyc_max_longitude)]\n",
    "\n",
    "    for lat in ['pickup_latitude', 'dropoff_latitude']:\n",
    "        df2 = df2[(df2[lat] > nyc_min_latitude) & (df2[lat] < nyc_max_latitude)]\n",
    "    \n",
    "    return df2\n",
    "\n",
    "\n",
    "# Determine how many records are outside the Long and Lat for NYC\n",
    "nyc_data = get_NYC_records_only(data)\n",
    "num_nyc_records = nyc_data.shape[0]\n",
    "all_records = data.shape[0]\n",
    "outside_nyc_records = all_records - num_nyc_records\n",
    "percentage_outside = outside_nyc_records / all_records * 100\n",
    "\n",
    "print(\"Outside NYC longitude: {}\".format(outside_nyc_records))\n",
    "print(\"Percentage outside NYC longitude: {:0f}\".format(percentage_outside))"
   ]
  },
  {
   "cell_type": "markdown",
   "metadata": {},
   "source": [
    "That's about 3% of our records are outside the target area - we don't really have much choice but to delete them."
   ]
  },
  {
   "cell_type": "code",
   "execution_count": 9,
   "metadata": {},
   "outputs": [
    {
     "name": "stdout",
     "output_type": "stream",
     "text": [
      "\n",
      "Total samples: 483466\n"
     ]
    }
   ],
   "source": [
    "data = get_NYC_records_only(data)\n",
    "print(\"\\nTotal samples: {}\".format(data.shape[0]))"
   ]
  },
  {
   "cell_type": "markdown",
   "metadata": {},
   "source": [
    "### Dealing with invalid Passenger Count\n",
    "We can see that there are some records where the passenger count is 0 which seems odd.\n",
    "\n",
    "They could be trips made to deliver some package rather than to carry a passenger but that seems rare in this day due to the security concerns of doing that."
   ]
  },
  {
   "cell_type": "code",
   "execution_count": 10,
   "metadata": {},
   "outputs": [
    {
     "name": "stdout",
     "output_type": "stream",
     "text": [
      "Records with 0 passengers: 1732\n"
     ]
    },
    {
     "data": {
      "image/png": "[encoded data removed]",
      "text/plain": [
       "<Figure size 432x288 with 1 Axes>"
      ]
     },
     "metadata": {
      "needs_background": "light"
     },
     "output_type": "display_data"
    }
   ],
   "source": [
    "print(\"Records with 0 passengers: {}\".format(data[data['passenger_count'] < 1.0].shape[0]))\n",
    "\n",
    "data['passenger_count'].plot.hist(bins=6)\n",
    "plt.xlabel('Num Passengers')\n",
    "plt.title('Passenger Count Histogram')\n",
    "plt.show()"
   ]
  },
  {
   "cell_type": "markdown",
   "metadata": {},
   "source": [
    "With 1,700 records falling into the category we could just delete the rows but ideally we want to keep as much data as possible. We could estimate the number of passengers instead. From the statistics and the above graph we can we can see that the average/mean value is 1.6 passengers and actually by far the most common is a single passenger.\n",
    "\n",
    "So replacing any 0 passenger count values a value of 1 acceptable and the number of records shouldn't bias our model much."
   ]
  },
  {
   "cell_type": "code",
   "execution_count": 11,
   "metadata": {},
   "outputs": [],
   "source": [
    "# Get the mode (the most frequent value)\n",
    "mode = data['passenger_count'].mode().values[0]\n",
    "# Set the passenger count to the mode where the passenger count is currently 0\n",
    "data.loc[data['passenger_count'] == 0, 'passenger_count'] = mode"
   ]
  },
  {
   "cell_type": "markdown",
   "metadata": {},
   "source": [
    "### Dealing with un-needed features\n",
    "If you look at the data you will see that we data duplicated in two columns _key_ and _pickup_datetime_. We don't really need both so we should delete one of the columns."
   ]
  },
  {
   "cell_type": "code",
   "execution_count": 12,
   "metadata": {},
   "outputs": [
    {
     "data": {
      "text/html": [
       "<div>\n",
       "<style scoped>\n",
       "    .dataframe tbody tr th:only-of-type {\n",
       "        vertical-align: middle;\n",
       "    }\n",
       "\n",
       "    .dataframe tbody tr th {\n",
       "        vertical-align: top;\n",
       "    }\n",
       "\n",
       "    .dataframe thead th {\n",
       "        text-align: right;\n",
       "    }\n",
       "</style>\n",
       "<table border=\"1\" class=\"dataframe\">\n",
       "  <thead>\n",
       "    <tr style=\"text-align: right;\">\n",
       "      <th></th>\n",
       "      <th>key</th>\n",
       "      <th>fare_amount</th>\n",
       "      <th>pickup_datetime</th>\n",
       "      <th>pickup_longitude</th>\n",
       "      <th>pickup_latitude</th>\n",
       "      <th>dropoff_longitude</th>\n",
       "      <th>dropoff_latitude</th>\n",
       "      <th>passenger_count</th>\n",
       "    </tr>\n",
       "  </thead>\n",
       "  <tbody>\n",
       "    <tr>\n",
       "      <th>0</th>\n",
       "      <td>2009-06-15 17:26:21.0000001</td>\n",
       "      <td>4.5</td>\n",
       "      <td>2009-06-15 17:26:21+00:00</td>\n",
       "      <td>-73.844311</td>\n",
       "      <td>40.721319</td>\n",
       "      <td>-73.841610</td>\n",
       "      <td>40.712278</td>\n",
       "      <td>1</td>\n",
       "    </tr>\n",
       "    <tr>\n",
       "      <th>1</th>\n",
       "      <td>2010-01-05 16:52:16.0000002</td>\n",
       "      <td>16.9</td>\n",
       "      <td>2010-01-05 16:52:16+00:00</td>\n",
       "      <td>-74.016048</td>\n",
       "      <td>40.711303</td>\n",
       "      <td>-73.979268</td>\n",
       "      <td>40.782004</td>\n",
       "      <td>1</td>\n",
       "    </tr>\n",
       "    <tr>\n",
       "      <th>2</th>\n",
       "      <td>2011-08-18 00:35:00.00000049</td>\n",
       "      <td>5.7</td>\n",
       "      <td>2011-08-18 00:35:00+00:00</td>\n",
       "      <td>-73.982738</td>\n",
       "      <td>40.761270</td>\n",
       "      <td>-73.991242</td>\n",
       "      <td>40.750562</td>\n",
       "      <td>2</td>\n",
       "    </tr>\n",
       "    <tr>\n",
       "      <th>3</th>\n",
       "      <td>2012-04-21 04:30:42.0000001</td>\n",
       "      <td>7.7</td>\n",
       "      <td>2012-04-21 04:30:42+00:00</td>\n",
       "      <td>-73.987130</td>\n",
       "      <td>40.733143</td>\n",
       "      <td>-73.991567</td>\n",
       "      <td>40.758092</td>\n",
       "      <td>1</td>\n",
       "    </tr>\n",
       "    <tr>\n",
       "      <th>4</th>\n",
       "      <td>2010-03-09 07:51:00.000000135</td>\n",
       "      <td>5.3</td>\n",
       "      <td>2010-03-09 07:51:00+00:00</td>\n",
       "      <td>-73.968095</td>\n",
       "      <td>40.768008</td>\n",
       "      <td>-73.956655</td>\n",
       "      <td>40.783762</td>\n",
       "      <td>1</td>\n",
       "    </tr>\n",
       "  </tbody>\n",
       "</table>\n",
       "</div>"
      ],
      "text/plain": [
       "                             key  fare_amount           pickup_datetime  \\\n",
       "0    2009-06-15 17:26:21.0000001          4.5 2009-06-15 17:26:21+00:00   \n",
       "1    2010-01-05 16:52:16.0000002         16.9 2010-01-05 16:52:16+00:00   \n",
       "2   2011-08-18 00:35:00.00000049          5.7 2011-08-18 00:35:00+00:00   \n",
       "3    2012-04-21 04:30:42.0000001          7.7 2012-04-21 04:30:42+00:00   \n",
       "4  2010-03-09 07:51:00.000000135          5.3 2010-03-09 07:51:00+00:00   \n",
       "\n",
       "   pickup_longitude  pickup_latitude  dropoff_longitude  dropoff_latitude  \\\n",
       "0        -73.844311        40.721319         -73.841610         40.712278   \n",
       "1        -74.016048        40.711303         -73.979268         40.782004   \n",
       "2        -73.982738        40.761270         -73.991242         40.750562   \n",
       "3        -73.987130        40.733143         -73.991567         40.758092   \n",
       "4        -73.968095        40.768008         -73.956655         40.783762   \n",
       "\n",
       "   passenger_count  \n",
       "0                1  \n",
       "1                1  \n",
       "2                2  \n",
       "3                1  \n",
       "4                1  "
      ]
     },
     "execution_count": 12,
     "metadata": {},
     "output_type": "execute_result"
    }
   ],
   "source": [
    "data.head()"
   ]
  },
  {
   "cell_type": "code",
   "execution_count": 13,
   "metadata": {},
   "outputs": [],
   "source": [
    "# Drop the key column\n",
    "data.drop(['key'], axis=1, inplace=True)"
   ]
  },
  {
   "cell_type": "markdown",
   "metadata": {},
   "source": [
    "## Summary of Data Processing\n",
    "We performed some basic analysis on our data and found some anomalies and dealt with them using different means. Specifically we:\n",
    "- Deleted samples where the Fare was below the minimum\n",
    "- Deleted samples where the Longitude and Latitude of the Journey was outside NYC\n",
    "- Deleted samples where the sample included null values (in the Longitude and Latitude)\n",
    "- Updated samples where the passenger count was 0 to reflect the mode of the dataset.\n",
    "\n",
    "Our data is now in a better state; we started with 500K records and now have 483K records that are reasonably clean."
   ]
  },
  {
   "cell_type": "code",
   "execution_count": 14,
   "metadata": {},
   "outputs": [
    {
     "name": "stdout",
     "output_type": "stream",
     "text": [
      "         fare_amount  pickup_longitude  pickup_latitude  dropoff_longitude  \\\n",
      "count  483466.000000     483466.000000    483466.000000      483466.000000   \n",
      "mean       11.028704        -73.975676        40.750897         -73.974589   \n",
      "std         8.955280          0.033561         0.026227           0.032039   \n",
      "min         2.500000        -74.049288        40.630097         -74.049897   \n",
      "25%         6.000000        -73.992262        40.736638         -73.991547   \n",
      "50%         8.500000        -73.982095        40.753379         -73.980677   \n",
      "75%        12.500000        -73.968482        40.767394         -73.965803   \n",
      "max       500.000000        -73.750322        40.849922         -73.750061   \n",
      "\n",
      "       dropoff_latitude  passenger_count  \n",
      "count     483466.000000    483466.000000  \n",
      "mean          40.751156         1.687099  \n",
      "std            0.028473         1.304078  \n",
      "min           40.630056         1.000000  \n",
      "25%           40.735917         1.000000  \n",
      "50%           40.753853         1.000000  \n",
      "75%           40.768242         2.000000  \n",
      "max           40.849988         6.000000  \n",
      "\n",
      "Total samples: 483466\n"
     ]
    }
   ],
   "source": [
    "print(data.describe())\n",
    "print(\"\\nTotal samples: {}\".format(data.shape[0]))"
   ]
  },
  {
   "cell_type": "code",
   "execution_count": 15,
   "metadata": {},
   "outputs": [
    {
     "data": {
      "text/html": [
       "<div>\n",
       "<style scoped>\n",
       "    .dataframe tbody tr th:only-of-type {\n",
       "        vertical-align: middle;\n",
       "    }\n",
       "\n",
       "    .dataframe tbody tr th {\n",
       "        vertical-align: top;\n",
       "    }\n",
       "\n",
       "    .dataframe thead th {\n",
       "        text-align: right;\n",
       "    }\n",
       "</style>\n",
       "<table border=\"1\" class=\"dataframe\">\n",
       "  <thead>\n",
       "    <tr style=\"text-align: right;\">\n",
       "      <th></th>\n",
       "      <th>fare_amount</th>\n",
       "      <th>pickup_datetime</th>\n",
       "      <th>pickup_longitude</th>\n",
       "      <th>pickup_latitude</th>\n",
       "      <th>dropoff_longitude</th>\n",
       "      <th>dropoff_latitude</th>\n",
       "      <th>passenger_count</th>\n",
       "    </tr>\n",
       "  </thead>\n",
       "  <tbody>\n",
       "    <tr>\n",
       "      <th>0</th>\n",
       "      <td>4.5</td>\n",
       "      <td>2009-06-15 17:26:21+00:00</td>\n",
       "      <td>-73.844311</td>\n",
       "      <td>40.721319</td>\n",
       "      <td>-73.841610</td>\n",
       "      <td>40.712278</td>\n",
       "      <td>1</td>\n",
       "    </tr>\n",
       "    <tr>\n",
       "      <th>1</th>\n",
       "      <td>16.9</td>\n",
       "      <td>2010-01-05 16:52:16+00:00</td>\n",
       "      <td>-74.016048</td>\n",
       "      <td>40.711303</td>\n",
       "      <td>-73.979268</td>\n",
       "      <td>40.782004</td>\n",
       "      <td>1</td>\n",
       "    </tr>\n",
       "    <tr>\n",
       "      <th>2</th>\n",
       "      <td>5.7</td>\n",
       "      <td>2011-08-18 00:35:00+00:00</td>\n",
       "      <td>-73.982738</td>\n",
       "      <td>40.761270</td>\n",
       "      <td>-73.991242</td>\n",
       "      <td>40.750562</td>\n",
       "      <td>2</td>\n",
       "    </tr>\n",
       "    <tr>\n",
       "      <th>3</th>\n",
       "      <td>7.7</td>\n",
       "      <td>2012-04-21 04:30:42+00:00</td>\n",
       "      <td>-73.987130</td>\n",
       "      <td>40.733143</td>\n",
       "      <td>-73.991567</td>\n",
       "      <td>40.758092</td>\n",
       "      <td>1</td>\n",
       "    </tr>\n",
       "    <tr>\n",
       "      <th>4</th>\n",
       "      <td>5.3</td>\n",
       "      <td>2010-03-09 07:51:00+00:00</td>\n",
       "      <td>-73.968095</td>\n",
       "      <td>40.768008</td>\n",
       "      <td>-73.956655</td>\n",
       "      <td>40.783762</td>\n",
       "      <td>1</td>\n",
       "    </tr>\n",
       "  </tbody>\n",
       "</table>\n",
       "</div>"
      ],
      "text/plain": [
       "   fare_amount           pickup_datetime  pickup_longitude  pickup_latitude  \\\n",
       "0          4.5 2009-06-15 17:26:21+00:00        -73.844311        40.721319   \n",
       "1         16.9 2010-01-05 16:52:16+00:00        -74.016048        40.711303   \n",
       "2          5.7 2011-08-18 00:35:00+00:00        -73.982738        40.761270   \n",
       "3          7.7 2012-04-21 04:30:42+00:00        -73.987130        40.733143   \n",
       "4          5.3 2010-03-09 07:51:00+00:00        -73.968095        40.768008   \n",
       "\n",
       "   dropoff_longitude  dropoff_latitude  passenger_count  \n",
       "0         -73.841610         40.712278                1  \n",
       "1         -73.979268         40.782004                1  \n",
       "2         -73.991242         40.750562                2  \n",
       "3         -73.991567         40.758092                1  \n",
       "4         -73.956655         40.783762                1  "
      ]
     },
     "execution_count": 15,
     "metadata": {},
     "output_type": "execute_result"
    }
   ],
   "source": [
    "data.head()"
   ]
  },
  {
   "cell_type": "markdown",
   "metadata": {},
   "source": [
    "## Feature Engineering\n",
    "Now that our data is in a good state we can turn our attention to enriching our dataset through feature engineering.\n",
    "\n",
    "Remember that our objective is to predict the Fare to be charged based on a taxi journey. Currently we have a date and time of journey, the number of passengers and the pick-up and drop-off locations."
   ]
  },
  {
   "cell_type": "markdown",
   "metadata": {},
   "source": [
    "### Exercise - Identifying Features\n",
    "__Question__: Think about the data we have and the task we are trying to achieve. What features do you think might be useful.\n",
    "Think about what factors you think are important and how they are reflected in our data. Are these factors readily accessible to our model?\n",
    "\n",
    "Identify a set of new features you think might be useful to aid learning."
   ]
  },
  {
   "cell_type": "code",
   "execution_count": 16,
   "metadata": {},
   "outputs": [
    {
     "data": {
      "text/html": [
       "<div>\n",
       "<style scoped>\n",
       "    .dataframe tbody tr th:only-of-type {\n",
       "        vertical-align: middle;\n",
       "    }\n",
       "\n",
       "    .dataframe tbody tr th {\n",
       "        vertical-align: top;\n",
       "    }\n",
       "\n",
       "    .dataframe thead th {\n",
       "        text-align: right;\n",
       "    }\n",
       "</style>\n",
       "<table border=\"1\" class=\"dataframe\">\n",
       "  <thead>\n",
       "    <tr style=\"text-align: right;\">\n",
       "      <th></th>\n",
       "      <th>fare_amount</th>\n",
       "      <th>pickup_datetime</th>\n",
       "      <th>pickup_longitude</th>\n",
       "      <th>pickup_latitude</th>\n",
       "      <th>dropoff_longitude</th>\n",
       "      <th>dropoff_latitude</th>\n",
       "      <th>passenger_count</th>\n",
       "    </tr>\n",
       "  </thead>\n",
       "  <tbody>\n",
       "    <tr>\n",
       "      <th>0</th>\n",
       "      <td>4.5</td>\n",
       "      <td>2009-06-15 17:26:21+00:00</td>\n",
       "      <td>-73.844311</td>\n",
       "      <td>40.721319</td>\n",
       "      <td>-73.841610</td>\n",
       "      <td>40.712278</td>\n",
       "      <td>1</td>\n",
       "    </tr>\n",
       "    <tr>\n",
       "      <th>1</th>\n",
       "      <td>16.9</td>\n",
       "      <td>2010-01-05 16:52:16+00:00</td>\n",
       "      <td>-74.016048</td>\n",
       "      <td>40.711303</td>\n",
       "      <td>-73.979268</td>\n",
       "      <td>40.782004</td>\n",
       "      <td>1</td>\n",
       "    </tr>\n",
       "    <tr>\n",
       "      <th>2</th>\n",
       "      <td>5.7</td>\n",
       "      <td>2011-08-18 00:35:00+00:00</td>\n",
       "      <td>-73.982738</td>\n",
       "      <td>40.761270</td>\n",
       "      <td>-73.991242</td>\n",
       "      <td>40.750562</td>\n",
       "      <td>2</td>\n",
       "    </tr>\n",
       "    <tr>\n",
       "      <th>3</th>\n",
       "      <td>7.7</td>\n",
       "      <td>2012-04-21 04:30:42+00:00</td>\n",
       "      <td>-73.987130</td>\n",
       "      <td>40.733143</td>\n",
       "      <td>-73.991567</td>\n",
       "      <td>40.758092</td>\n",
       "      <td>1</td>\n",
       "    </tr>\n",
       "    <tr>\n",
       "      <th>4</th>\n",
       "      <td>5.3</td>\n",
       "      <td>2010-03-09 07:51:00+00:00</td>\n",
       "      <td>-73.968095</td>\n",
       "      <td>40.768008</td>\n",
       "      <td>-73.956655</td>\n",
       "      <td>40.783762</td>\n",
       "      <td>1</td>\n",
       "    </tr>\n",
       "  </tbody>\n",
       "</table>\n",
       "</div>"
      ],
      "text/plain": [
       "   fare_amount           pickup_datetime  pickup_longitude  pickup_latitude  \\\n",
       "0          4.5 2009-06-15 17:26:21+00:00        -73.844311        40.721319   \n",
       "1         16.9 2010-01-05 16:52:16+00:00        -74.016048        40.711303   \n",
       "2          5.7 2011-08-18 00:35:00+00:00        -73.982738        40.761270   \n",
       "3          7.7 2012-04-21 04:30:42+00:00        -73.987130        40.733143   \n",
       "4          5.3 2010-03-09 07:51:00+00:00        -73.968095        40.768008   \n",
       "\n",
       "   dropoff_longitude  dropoff_latitude  passenger_count  \n",
       "0         -73.841610         40.712278                1  \n",
       "1         -73.979268         40.782004                1  \n",
       "2         -73.991242         40.750562                2  \n",
       "3         -73.991567         40.758092                1  \n",
       "4         -73.956655         40.783762                1  "
      ]
     },
     "execution_count": 16,
     "metadata": {},
     "output_type": "execute_result"
    }
   ],
   "source": [
    "data.head()"
   ]
  },
  {
   "cell_type": "markdown",
   "metadata": {},
   "source": [
    "One Feature that might be helpful is a distance metric - the fare is likely to be highly corollated with the pick-up and drop-off locations. \n",
    "\n",
    "However we don't have any information about the route taken - cities like NYC have multiple routes that could be taken depending on traffic conditions.\n",
    "\n",
    "While we can't have an accurate distance it might be useful to have an indication of the distance; something that can be calculated based on the Longitude and Latitudes of the Pick-Up and Drop-Off points.\n",
    "\n",
    "We will use a simple measure called Euclidean Distance."
   ]
  },
  {
   "cell_type": "code",
   "execution_count": 17,
   "metadata": {},
   "outputs": [
    {
     "data": {
      "text/html": [
       "<div>\n",
       "<style scoped>\n",
       "    .dataframe tbody tr th:only-of-type {\n",
       "        vertical-align: middle;\n",
       "    }\n",
       "\n",
       "    .dataframe tbody tr th {\n",
       "        vertical-align: top;\n",
       "    }\n",
       "\n",
       "    .dataframe thead th {\n",
       "        text-align: right;\n",
       "    }\n",
       "</style>\n",
       "<table border=\"1\" class=\"dataframe\">\n",
       "  <thead>\n",
       "    <tr style=\"text-align: right;\">\n",
       "      <th></th>\n",
       "      <th>fare_amount</th>\n",
       "      <th>pickup_datetime</th>\n",
       "      <th>pickup_longitude</th>\n",
       "      <th>pickup_latitude</th>\n",
       "      <th>dropoff_longitude</th>\n",
       "      <th>dropoff_latitude</th>\n",
       "      <th>passenger_count</th>\n",
       "      <th>distance</th>\n",
       "    </tr>\n",
       "  </thead>\n",
       "  <tbody>\n",
       "    <tr>\n",
       "      <th>0</th>\n",
       "      <td>4.5</td>\n",
       "      <td>2009-06-15 17:26:21+00:00</td>\n",
       "      <td>-73.844311</td>\n",
       "      <td>40.721319</td>\n",
       "      <td>-73.841610</td>\n",
       "      <td>40.712278</td>\n",
       "      <td>1</td>\n",
       "      <td>0.009436</td>\n",
       "    </tr>\n",
       "    <tr>\n",
       "      <th>1</th>\n",
       "      <td>16.9</td>\n",
       "      <td>2010-01-05 16:52:16+00:00</td>\n",
       "      <td>-74.016048</td>\n",
       "      <td>40.711303</td>\n",
       "      <td>-73.979268</td>\n",
       "      <td>40.782004</td>\n",
       "      <td>1</td>\n",
       "      <td>0.079696</td>\n",
       "    </tr>\n",
       "    <tr>\n",
       "      <th>2</th>\n",
       "      <td>5.7</td>\n",
       "      <td>2011-08-18 00:35:00+00:00</td>\n",
       "      <td>-73.982738</td>\n",
       "      <td>40.761270</td>\n",
       "      <td>-73.991242</td>\n",
       "      <td>40.750562</td>\n",
       "      <td>2</td>\n",
       "      <td>0.013674</td>\n",
       "    </tr>\n",
       "    <tr>\n",
       "      <th>3</th>\n",
       "      <td>7.7</td>\n",
       "      <td>2012-04-21 04:30:42+00:00</td>\n",
       "      <td>-73.987130</td>\n",
       "      <td>40.733143</td>\n",
       "      <td>-73.991567</td>\n",
       "      <td>40.758092</td>\n",
       "      <td>1</td>\n",
       "      <td>0.025340</td>\n",
       "    </tr>\n",
       "    <tr>\n",
       "      <th>4</th>\n",
       "      <td>5.3</td>\n",
       "      <td>2010-03-09 07:51:00+00:00</td>\n",
       "      <td>-73.968095</td>\n",
       "      <td>40.768008</td>\n",
       "      <td>-73.956655</td>\n",
       "      <td>40.783762</td>\n",
       "      <td>1</td>\n",
       "      <td>0.019470</td>\n",
       "    </tr>\n",
       "  </tbody>\n",
       "</table>\n",
       "</div>"
      ],
      "text/plain": [
       "   fare_amount           pickup_datetime  pickup_longitude  pickup_latitude  \\\n",
       "0          4.5 2009-06-15 17:26:21+00:00        -73.844311        40.721319   \n",
       "1         16.9 2010-01-05 16:52:16+00:00        -74.016048        40.711303   \n",
       "2          5.7 2011-08-18 00:35:00+00:00        -73.982738        40.761270   \n",
       "3          7.7 2012-04-21 04:30:42+00:00        -73.987130        40.733143   \n",
       "4          5.3 2010-03-09 07:51:00+00:00        -73.968095        40.768008   \n",
       "\n",
       "   dropoff_longitude  dropoff_latitude  passenger_count  distance  \n",
       "0         -73.841610         40.712278                1  0.009436  \n",
       "1         -73.979268         40.782004                1  0.079696  \n",
       "2         -73.991242         40.750562                2  0.013674  \n",
       "3         -73.991567         40.758092                1  0.025340  \n",
       "4         -73.956655         40.783762                1  0.019470  "
      ]
     },
     "execution_count": 17,
     "metadata": {},
     "output_type": "execute_result"
    }
   ],
   "source": [
    "def euclidean_distance(lat1, long1, lat2, long2):\n",
    "    return (((lat1-lat2)**2 + (long1 - long2) ** 2) ** 0.5)\n",
    "\n",
    "# Now we will create a new feature called distance that uses this method\n",
    "data['distance'] = euclidean_distance(data['pickup_latitude'], \n",
    "                        data['pickup_longitude'],\n",
    "                       data['dropoff_latitude'],\n",
    "                       data['dropoff_longitude'])\n",
    "data.head()"
   ]
  },
  {
   "cell_type": "markdown",
   "metadata": {},
   "source": [
    "__Question__: Consider the _pickup_datetime_ column how easy do you think it will be to learn patterns from this? Which parts of the date are most relevant to the learning task?\n",
    "\n",
    "For example:\n",
    "- it is more likely that the day of the month or the day of the week is more relevant to estimating the fare price?\n",
    "- How relevant is it that a journey was taken at 12:30 rather than 12:15? Is there likely to be much difference?"
   ]
  },
  {
   "cell_type": "code",
   "execution_count": 18,
   "metadata": {},
   "outputs": [],
   "source": [
    "# Let's break out the date into it's parts to see if these are useful\n",
    "data['year'] = data['pickup_datetime'].dt.year\n",
    "data['month'] = data['pickup_datetime'].dt.month\n",
    "data['day'] = data['pickup_datetime'].dt.day\n",
    "data['day_of_week'] = data['pickup_datetime'].dt.dayofweek\n",
    "data['hour'] = data['pickup_datetime'].dt.hour\n"
   ]
  },
  {
   "cell_type": "code",
   "execution_count": 19,
   "metadata": {},
   "outputs": [
    {
     "data": {
      "image/png": "[encoded data removed]",
      "text/plain": [
       "<Figure size 432x288 with 1 Axes>"
      ]
     },
     "metadata": {
      "needs_background": "light"
     },
     "output_type": "display_data"
    },
    {
     "data": {
      "image/png": "[encoded data removed]",
      "text/plain": [
       "<Figure size 432x288 with 1 Axes>"
      ]
     },
     "metadata": {
      "needs_background": "light"
     },
     "output_type": "display_data"
    }
   ],
   "source": [
    "data['day_of_week'].plot.hist(bins=np.arange(8)-0.5, ec='black',\n",
    "                             ylim=(60000, 75000))\n",
    "plt.xlabel('Day of the Week (0=Monday)')\n",
    "plt.title('Day of Week Histogram')\n",
    "plt.show()\n",
    "\n",
    "data['hour'].plot.hist(bins=24, ec='black')\n",
    "plt.xlabel('Hour')\n",
    "plt.title('Pickup by Hour Histogram')\n",
    "plt.show()"
   ]
  },
  {
   "cell_type": "markdown",
   "metadata": {},
   "source": [
    "It's likely that seperating out the date is going to help with the learning.\n",
    "\n",
    "It also means that the original _pickup_datetime_ is redundant and can be dropped. We might also consider droping the year and day."
   ]
  },
  {
   "cell_type": "code",
   "execution_count": 20,
   "metadata": {},
   "outputs": [],
   "source": [
    "data.drop(['pickup_datetime', 'year', 'day'], axis=1, inplace=True)"
   ]
  },
  {
   "cell_type": "markdown",
   "metadata": {},
   "source": [
    "## Feature Engineering Summary\n",
    "We have seen some examples of engineering new features to enrich our data. Specicially we:\n",
    "- Created a new feature (_distance_) based on a combination of existing features \n",
    "- Split an existing feature to create new features to simplify the dataset.\n",
    "- Removed some (seemingly redundant) features.\n",
    "\n",
    "There are other features that we might want to try such as:\n",
    "- Zoning the Pick-up & Drop-off locations\n",
    "- Flaging whether a journey was made on a National Holiday or not"
   ]
  },
  {
   "cell_type": "markdown",
   "metadata": {},
   "source": [
    "In General, Feature Engineering is an iterative process. Often we will start by cleaning up our data and training the model with few engineered features. \n",
    "\n",
    "We can use this as a baseline and see if we can engineer new features to improve the model.\n",
    "\n",
    "Over engineering features (particularly early in the process) can lead to poor and inflexible models. It is generally better to start simple and iteratively add engineered features."
   ]
  },
  {
   "cell_type": "markdown",
   "metadata": {},
   "source": [
    "## Normalising Data\n",
    "We have numerical data that has very different ranges; for example compare the values for _passenger_count_ and the longitude and latitude features. In some datasets, the difference in ranges can be extreme (e.g. very small values compred to very large value).\n",
    "\n",
    "This can cause issues with machine learning, leading to poor learning (slow or poor levels of accuracy) or the model becoming more sensitive to some features.\n",
    "\n",
    "To allievate this we __Normalise__ the data; this is a mathematical operation that preserves the relationship between datapoints but brings them into similar ranges.\n",
    "\n",
    "The downside of this is that the data no longer resembles to original dataset.\n",
    "\n",
    "We would often do this as the last step in preparing data for a model (after pre-processing and feature engineering)."
   ]
  },
  {
   "cell_type": "code",
   "execution_count": 21,
   "metadata": {},
   "outputs": [
    {
     "data": {
      "text/html": [
       "<div>\n",
       "<style scoped>\n",
       "    .dataframe tbody tr th:only-of-type {\n",
       "        vertical-align: middle;\n",
       "    }\n",
       "\n",
       "    .dataframe tbody tr th {\n",
       "        vertical-align: top;\n",
       "    }\n",
       "\n",
       "    .dataframe thead th {\n",
       "        text-align: right;\n",
       "    }\n",
       "</style>\n",
       "<table border=\"1\" class=\"dataframe\">\n",
       "  <thead>\n",
       "    <tr style=\"text-align: right;\">\n",
       "      <th></th>\n",
       "      <th>fare_amount</th>\n",
       "      <th>pickup_longitude</th>\n",
       "      <th>pickup_latitude</th>\n",
       "      <th>dropoff_longitude</th>\n",
       "      <th>dropoff_latitude</th>\n",
       "      <th>passenger_count</th>\n",
       "      <th>distance</th>\n",
       "      <th>month</th>\n",
       "      <th>day_of_week</th>\n",
       "      <th>hour</th>\n",
       "    </tr>\n",
       "  </thead>\n",
       "  <tbody>\n",
       "    <tr>\n",
       "      <th>0</th>\n",
       "      <td>4.5</td>\n",
       "      <td>-0.611821</td>\n",
       "      <td>0.337387</td>\n",
       "      <td>-0.611798</td>\n",
       "      <td>0.337312</td>\n",
       "      <td>0.008285</td>\n",
       "      <td>0.000078</td>\n",
       "      <td>0.049712</td>\n",
       "      <td>0.000000</td>\n",
       "      <td>0.140850</td>\n",
       "    </tr>\n",
       "    <tr>\n",
       "      <th>1</th>\n",
       "      <td>16.9</td>\n",
       "      <td>-0.608069</td>\n",
       "      <td>0.334458</td>\n",
       "      <td>-0.607767</td>\n",
       "      <td>0.335039</td>\n",
       "      <td>0.008215</td>\n",
       "      <td>0.000655</td>\n",
       "      <td>0.008215</td>\n",
       "      <td>0.008215</td>\n",
       "      <td>0.131446</td>\n",
       "    </tr>\n",
       "    <tr>\n",
       "      <th>2</th>\n",
       "      <td>5.7</td>\n",
       "      <td>-0.616957</td>\n",
       "      <td>0.339917</td>\n",
       "      <td>-0.617028</td>\n",
       "      <td>0.339827</td>\n",
       "      <td>0.016678</td>\n",
       "      <td>0.000114</td>\n",
       "      <td>0.066714</td>\n",
       "      <td>0.025018</td>\n",
       "      <td>0.000000</td>\n",
       "    </tr>\n",
       "    <tr>\n",
       "      <th>3</th>\n",
       "      <td>7.7</td>\n",
       "      <td>-0.616848</td>\n",
       "      <td>0.339602</td>\n",
       "      <td>-0.616885</td>\n",
       "      <td>0.339810</td>\n",
       "      <td>0.008337</td>\n",
       "      <td>0.000211</td>\n",
       "      <td>0.033349</td>\n",
       "      <td>0.041686</td>\n",
       "      <td>0.033349</td>\n",
       "    </tr>\n",
       "    <tr>\n",
       "      <th>4</th>\n",
       "      <td>5.3</td>\n",
       "      <td>-0.617381</td>\n",
       "      <td>0.340274</td>\n",
       "      <td>-0.617286</td>\n",
       "      <td>0.340405</td>\n",
       "      <td>0.008347</td>\n",
       "      <td>0.000163</td>\n",
       "      <td>0.025040</td>\n",
       "      <td>0.008347</td>\n",
       "      <td>0.058426</td>\n",
       "    </tr>\n",
       "  </tbody>\n",
       "</table>\n",
       "</div>"
      ],
      "text/plain": [
       "   fare_amount  pickup_longitude  pickup_latitude  dropoff_longitude  \\\n",
       "0          4.5         -0.611821         0.337387          -0.611798   \n",
       "1         16.9         -0.608069         0.334458          -0.607767   \n",
       "2          5.7         -0.616957         0.339917          -0.617028   \n",
       "3          7.7         -0.616848         0.339602          -0.616885   \n",
       "4          5.3         -0.617381         0.340274          -0.617286   \n",
       "\n",
       "   dropoff_latitude  passenger_count  distance     month  day_of_week  \\\n",
       "0          0.337312         0.008285  0.000078  0.049712     0.000000   \n",
       "1          0.335039         0.008215  0.000655  0.008215     0.008215   \n",
       "2          0.339827         0.016678  0.000114  0.066714     0.025018   \n",
       "3          0.339810         0.008337  0.000211  0.033349     0.041686   \n",
       "4          0.340405         0.008347  0.000163  0.025040     0.008347   \n",
       "\n",
       "       hour  \n",
       "0  0.140850  \n",
       "1  0.131446  \n",
       "2  0.000000  \n",
       "3  0.033349  \n",
       "4  0.058426  "
      ]
     },
     "execution_count": 21,
     "metadata": {},
     "output_type": "execute_result"
    }
   ],
   "source": [
    "# Normalise the data\n",
    "# get a copy of the fare_amount (since we don't want to normalise)\n",
    "temp= data['fare_amount'].copy()\n",
    "# Normalise the data\n",
    "data = tf.keras.utils.normalize(data, axis=1)\n",
    "\n",
    "# Replace our fare_amount data\n",
    "data['fare_amount'] = temp\n",
    "data.head()"
   ]
  },
  {
   "cell_type": "markdown",
   "metadata": {},
   "source": [
    "__IMPORTANT__: We Normalise the Features but we do not Normalise the target (the value we are predicting)"
   ]
  },
  {
   "cell_type": "code",
   "execution_count": null,
   "metadata": {},
   "outputs": [],
   "source": []
  }
 ],
 "metadata": {
  "kernelspec": {
   "display_name": "Python 3",
   "language": "python",
   "name": "python3"
  },
  "language_info": {
   "codemirror_mode": {
    "name": "ipython",
    "version": 3
   },
   "file_extension": ".py",
   "mimetype": "text/x-python",
   "name": "python",
   "nbconvert_exporter": "python",
   "pygments_lexer": "ipython3",
   "version": "3.7.3"
  }
 },
 "nbformat": 4,
 "nbformat_minor": 2
}

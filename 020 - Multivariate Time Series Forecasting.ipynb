{
 "cells": [
  {
   "cell_type": "markdown",
   "metadata": {},
   "source": [
    "# Multi-variate Time Series Forecasting\n",
    "The workbook demonstrates forecasting time series values using multiple time series values (multi-variate).\n",
    "\n",
    "This is similar to the forecasting against a single value except that our input now have 2 sets of values."
   ]
  },
  {
   "cell_type": "markdown",
   "metadata": {},
   "source": [
    "# Importing some packages\n",
    "We are using the Python programming language and a set of Machine Learning packages - Importing packages for use is a common task. For this workshop you don't really need to pay that much attention to this step (but you do need to execute the cell) since we are focusing on building models. However the following is a description of what this cell does that you can read if you are interested.\n",
    "\n",
    "### Description of imports (Optional)\n",
    "You don't need to worry about this code as this is not the focus on the workshop but if you are interested in what this next cell does, here is an explaination.\n",
    "\n",
    "|Statement|Meaning|\n",
    "|---|---|\n",
    "|__import tensorflow as tf__ |Tensorflow (from Google) is our main machine learning library and we performs all of the various calculations for us and so hides much of the detailed complexity in Machine Learning. This _import_ statement makes the power of TensorFlow available to us and for convience we will refer to it as __tf__ |\n",
    "|__from tensorflow import keras__ |Tensorflow is quite a low level machine learning library which, while powerful and flexible can be confusing so instead we use another higher level framework called Keras to make our machine learning models more readable and easier to build and test. This _import_ statement makes the Keras framework available to us.|\n",
    "|__import numpy as np__ |Numpy is a Python library for scientific computing and is commonly used for machine learning. This _import_ statement makes the Keras framework available to us.|\n",
    "|__import matplotlib.pyplot as plt__ |To visualise what is happening in our network we will use a set of graphs and MatPlotLib is the standard Python library for producing Graphs so we __import__ this to enable us to make pretty graphs.|\n",
    "|__%matplotlib inline__| this is a Jupyter Notebook __magic__ commmand that tells the workbook to produce any graphs as part of the workbook and not as pop-up window.|"
   ]
  },
  {
   "cell_type": "code",
   "execution_count": 45,
   "metadata": {},
   "outputs": [
    {
     "name": "stdout",
     "output_type": "stream",
     "text": [
      "2.0.0-beta1\n"
     ]
    }
   ],
   "source": [
    "from __future__ import absolute_import, division, print_function, unicode_literals\n",
    "import pandas as pd\n",
    "\n",
    "import tensorflow as tf\n",
    "from tensorflow import keras\n",
    "from tensorflow.keras.preprocessing.sequence import TimeseriesGenerator\n",
    "print(tf.__version__)\n",
    "\n",
    "import numpy as np\n",
    "import matplotlib.pyplot as plt\n",
    "from sklearn.metrics import r2_score\n",
    "from sklearn.metrics import mean_squared_error\n",
    "from sklearn.preprocessing import MinMaxScaler\n",
    "\n",
    "%matplotlib inline"
   ]
  },
  {
   "cell_type": "markdown",
   "metadata": {},
   "source": [
    "## Helper functions\n",
    "The following cell contains a set of helper functions that makes our models a little clearer. We will not be going through these functions (since they require Python knowlege) so just make sure you have run this cell."
   ]
  },
  {
   "cell_type": "code",
   "execution_count": 5,
   "metadata": {},
   "outputs": [],
   "source": [
    "# Useful functions\n",
    "def print_timeseries(generator, num_samples=0):\n",
    "    pairs = len(generator[0][0])\n",
    "    if (num_samples > 0 and num_samples < pairs ):\n",
    "        pairs = num_samples\n",
    "    \n",
    "    for i in range(pairs):\n",
    "        x = generator[0][0][i]\n",
    "        \n",
    "        y = generator[0][1][i]\n",
    "        \n",
    "        print(\"[%s] => [%s]\" % (x, y))\n",
    "\n",
    "def create_target_series_for_generator(data, skip_output=0, output_length=1):\n",
    "    # The Generator will deal selecting the next in the sequence\n",
    "    # but if our predictions are skiping steps we need to shift our data a bit\n",
    "    shifted_data = data[skip_output:]\n",
    "   \n",
    "    # Now we loop through this shifted data set and collect sucessive  pairs\n",
    "    # and add them to our target_seq\n",
    "    target_seq = []\n",
    "    # Stop before we run out of output groups\n",
    "    pairs = len(shifted_data) - output_length\n",
    "    for i in range(pairs):\n",
    "        item = []\n",
    "        for j in range(output_length):\n",
    "            item.append(shifted_data[i+j])\n",
    "        target_seq.append(item)\n",
    "    return target_seq\n",
    "\n",
    "def printLoss(history):\n",
    "    history_dict = history.history\n",
    "    loss = history_dict['loss']\n",
    "    epochs = range(1, len(loss) + 1)\n",
    "    # \"bo\" is for \"blue dot\"\n",
    "    plt.plot(epochs, loss, 'b', label='Training loss')\n",
    "    plt.title('Training loss')\n",
    "    plt.xlabel('Epochs')\n",
    "    plt.ylabel('Loss')\n",
    "    plt.legend()\n",
    "    plt.show()\n",
    "    \n",
    "def get_y_from_generator(generator):\n",
    "    y = None\n",
    "    for i in range(len(generator)):\n",
    "        batch_y = generator[i][1]\n",
    "        if y is None:\n",
    "            y = batch_y\n",
    "        else:\n",
    "            y = np.append(y, batch_y)\n",
    "    y = y.reshape((-1,1))\n",
    "    \n",
    "    return y"
   ]
  },
  {
   "cell_type": "markdown",
   "metadata": {},
   "source": [
    "## Get the data\n",
    "The data we are using contains monthly figures for the number of Passengers (in thousands) and the Mean Monthly Temperature for the associated Month.\n",
    "\n",
    "For this workbook we will only be working with the number of Passengers"
   ]
  },
  {
   "cell_type": "code",
   "execution_count": 30,
   "metadata": {},
   "outputs": [
    {
     "data": {
      "text/html": [
       "<div>\n",
       "<style scoped>\n",
       "    .dataframe tbody tr th:only-of-type {\n",
       "        vertical-align: middle;\n",
       "    }\n",
       "\n",
       "    .dataframe tbody tr th {\n",
       "        vertical-align: top;\n",
       "    }\n",
       "\n",
       "    .dataframe thead th {\n",
       "        text-align: right;\n",
       "    }\n",
       "</style>\n",
       "<table border=\"1\" class=\"dataframe\">\n",
       "  <thead>\n",
       "    <tr style=\"text-align: right;\">\n",
       "      <th></th>\n",
       "      <th>Passengers</th>\n",
       "      <th>mean_monthly_temp</th>\n",
       "    </tr>\n",
       "  </thead>\n",
       "  <tbody>\n",
       "    <tr>\n",
       "      <th>0</th>\n",
       "      <td>112</td>\n",
       "      <td>3.7</td>\n",
       "    </tr>\n",
       "    <tr>\n",
       "      <th>1</th>\n",
       "      <td>118</td>\n",
       "      <td>2.9</td>\n",
       "    </tr>\n",
       "    <tr>\n",
       "      <th>2</th>\n",
       "      <td>132</td>\n",
       "      <td>3.7</td>\n",
       "    </tr>\n",
       "    <tr>\n",
       "      <th>3</th>\n",
       "      <td>129</td>\n",
       "      <td>6.7</td>\n",
       "    </tr>\n",
       "    <tr>\n",
       "      <th>4</th>\n",
       "      <td>121</td>\n",
       "      <td>13.0</td>\n",
       "    </tr>\n",
       "  </tbody>\n",
       "</table>\n",
       "</div>"
      ],
      "text/plain": [
       "   Passengers  mean_monthly_temp\n",
       "0         112                3.7\n",
       "1         118                2.9\n",
       "2         132                3.7\n",
       "3         129                6.7\n",
       "4         121               13.0"
      ]
     },
     "execution_count": 30,
     "metadata": {},
     "output_type": "execute_result"
    }
   ],
   "source": [
    "# Import some sample data\n",
    "dataset = pd.read_csv('passengers_and_temps.csv',  engine='python')\n",
    "timeseries_data = dataset.values\n",
    "dataset.head()\n"
   ]
  },
  {
   "cell_type": "code",
   "execution_count": null,
   "metadata": {},
   "outputs": [],
   "source": []
  },
  {
   "cell_type": "markdown",
   "metadata": {},
   "source": [
    "### Plotting the data\n",
    "The following cell plots a graph showing the number of Passengers travelling per month and the mean temperature for the month over a 12 year period.\n",
    "\n",
    "You can see from the graph that the data shows:\n",
    "- A general upward trend with each each of data being higher than the last\n",
    "- A seasonality to the data where each year has a similar shape but differs in the ranges of values"
   ]
  },
  {
   "cell_type": "code",
   "execution_count": 8,
   "metadata": {},
   "outputs": [
    {
     "data": {
      "text/plain": [
       "<matplotlib.axes._subplots.AxesSubplot at 0x150ab9b19e8>"
      ]
     },
     "execution_count": 8,
     "metadata": {},
     "output_type": "execute_result"
    },
    {
     "data": {
      "image/png": "[encoded data removed]",
      "text/plain": [
       "<Figure size 432x288 with 1 Axes>"
      ]
     },
     "metadata": {
      "needs_background": "light"
     },
     "output_type": "display_data"
    }
   ],
   "source": [
    "dataset.plot()"
   ]
  },
  {
   "cell_type": "markdown",
   "metadata": {},
   "source": [
    "## Prepare our data\n",
    "We now need to prepare our data and create a TimeseriesGenerator to work with. \n",
    "\n",
    "In this workbook we are only looking to predict the passenger levels for the next month given the previous few months of data.\n",
    "\n",
    "### Normalise our data\n",
    "As before we need to normalise our data so that our values are in the range 0-1 to help learning"
   ]
  },
  {
   "cell_type": "code",
   "execution_count": 32,
   "metadata": {},
   "outputs": [],
   "source": [
    "scaler = MinMaxScaler(feature_range=(0, 1))\n",
    "timeseries_data = scaler.fit_transform(timeseries_data)"
   ]
  },
  {
   "cell_type": "markdown",
   "metadata": {},
   "source": [
    "We will use TimeseriesGenerators but before we create them we need to split our data into Training and Testing sets.\n",
    "\n",
    "### Exercise\n",
    "Look at the graph above, at what point should we make the split?\n",
    "\n",
    "If you rememebr from the previous workbook we want our Testing set to contain any Seasonality and Trends present in our Training data. Additionally, we usually take Testing data from the most recent data.\n",
    "\n",
    "Set the value below to make the split - this is in months so a value between 1 and 144 is needed."
   ]
  },
  {
   "cell_type": "code",
   "execution_count": 33,
   "metadata": {},
   "outputs": [],
   "source": [
    "testing_data_after = 120\n",
    "\n",
    "train_data = timeseries_data[:testing_data_after]\n",
    "test_data = timeseries_data[testing_data_after:]"
   ]
  },
  {
   "cell_type": "markdown",
   "metadata": {},
   "source": [
    "We need to create our target data as we are trying to predict passenger numbers whereas our data contains passenger numbers and temperature."
   ]
  },
  {
   "cell_type": "code",
   "execution_count": 36,
   "metadata": {},
   "outputs": [],
   "source": [
    "train_target = train_data[:,0]\n",
    "test_target = test_data[:,0]"
   ]
  },
  {
   "cell_type": "markdown",
   "metadata": {},
   "source": [
    "Next we need to create our TimeseriesGenerators for training and testing. In this workbook we are only predicing the next month ahead but we need to decide on how many historical months we will use to forecast ahead\n",
    "\n",
    "### Exercise\n",
    "How many months of data should we use as our features? 1 month, 3 months, 6 months? Some other value?\n",
    "\n",
    "In the next cell you can specify the number of months to use as features in your model."
   ]
  },
  {
   "cell_type": "code",
   "execution_count": 38,
   "metadata": {},
   "outputs": [
    {
     "name": "stdout",
     "output_type": "stream",
     "text": [
      "[[0.01544402 0.21465969]\n",
      " [0.02702703 0.17277487]\n",
      " [0.05405405 0.21465969]\n",
      " [0.04826255 0.37172775]\n",
      " [0.03281853 0.70157068]]\n",
      "\n",
      "\n",
      "[[[0.01544402 0.21465969]\n",
      " [0.02702703 0.17277487]\n",
      " [0.05405405 0.21465969]\n",
      " [0.04826255 0.37172775]\n",
      " [0.03281853 0.70157068]\n",
      " [0.05984556 0.87958115]]] => [0.08494208494208491]\n"
     ]
    }
   ],
   "source": [
    "# TODO: Specify the number of months you want to use as your features\n",
    "feature_months = 6\n",
    "\n",
    "# Create our TimeseriesGenerator for Training\n",
    "training_generator = TimeseriesGenerator (data = train_data,\n",
    "                                    targets = train_target,\n",
    "                                    length = feature_months)\n",
    "\n",
    "# Create our TimeseriesGenerator for Testing\n",
    "testing_generator = TimeseriesGenerator (data = test_data,\n",
    "                                    targets = test_target,\n",
    "                                    length = feature_months)\n",
    "\n",
    "# Print out the start of our original series\n",
    "print(train_data[:5])\n",
    "print(\"\\n\")\n",
    "\n",
    "# print out a sample of our training data to check our generators are correct\n",
    "print_timeseries(training_generator, 1)"
   ]
  },
  {
   "cell_type": "markdown",
   "metadata": {},
   "source": [
    "# Build our Model\n",
    "We are now in a position to design our model using your own choice of networks architecture. We will provide a skeleton for you but it will be up to you to complete the model and train it.\n",
    "\n",
    "## Exercise\n",
    "Work in your groups to decide what network archiecture you will use and each train a different network to compare the results.\n",
    "\n",
    "Some options include:\n",
    " - Create a network consisting of a series of Dense layers\n",
    " - Create a network using a series of CNN layers\n",
    " - Create a network using an LSTM\n",
    "\n",
    "We have provided you with starter code for each of the 3 options. You should complete the cell for the model you are building and only run that cell. \n",
    "\n",
    "Each Cell has been set to be a _Markup_ cell so you will need to change the cell type on the one you are building to be _Code_. \n",
    "\n",
    "Ask if you are not sure how to do this"
   ]
  },
  {
   "cell_type": "code",
   "execution_count": 42,
   "metadata": {},
   "outputs": [
    {
     "name": "stdout",
     "output_type": "stream",
     "text": [
      "Model: \"sequential_7\"\n",
      "_________________________________________________________________\n",
      "Layer (type)                 Output Shape              Param #   \n",
      "=================================================================\n",
      "dense_17 (Dense)             (None, 6, 128)            384       \n",
      "_________________________________________________________________\n",
      "flatten_5 (Flatten)          (None, 768)               0         \n",
      "_________________________________________________________________\n",
      "dense_18 (Dense)             (None, 128)               98432     \n",
      "_________________________________________________________________\n",
      "dense_19 (Dense)             (None, 1)                 129       \n",
      "=================================================================\n",
      "Total params: 98,945\n",
      "Trainable params: 98,945\n",
      "Non-trainable params: 0\n",
      "_________________________________________________________________\n"
     ]
    }
   ],
   "source": [
    "# Multi-Level Network using Dense Nodes\n",
    "\n",
    "model = tf.keras.Sequential()\n",
    "\n",
    "# Input Layer\n",
    "model.add(keras.layers.Input(shape=(feature_months, 2)))\n",
    "model.add(keras.layers.Dense(units=128, activation='relu'))\n",
    "model.add(keras.layers.Flatten())\n",
    "\n",
    "# Hidden Layers\n",
    "# TODO: Add one or more hidden layers\n",
    "model.add(keras.layers.Dense(units=128, activation='relu'))\n",
    "\n",
    "\n",
    "# Output Layer\n",
    "model.add(keras.layers.Dense(1))\n",
    "\n",
    "model.compile(loss=\"mse\", optimizer='adam')\n",
    "\n",
    "model.summary()\n"
   ]
  },
  {
   "cell_type": "code",
   "execution_count": 49,
   "metadata": {},
   "outputs": [
    {
     "name": "stdout",
     "output_type": "stream",
     "text": [
      "Model: \"sequential_8\"\n",
      "_________________________________________________________________\n",
      "Layer (type)                 Output Shape              Param #   \n",
      "=================================================================\n",
      "conv1d_4 (Conv1D)            (None, 6, 64)             320       \n",
      "_________________________________________________________________\n",
      "max_pooling1d_4 (MaxPooling1 (None, 3, 64)             0         \n",
      "_________________________________________________________________\n",
      "conv1d_5 (Conv1D)            (None, 3, 128)            16512     \n",
      "_________________________________________________________________\n",
      "max_pooling1d_5 (MaxPooling1 (None, 1, 128)            0         \n",
      "_________________________________________________________________\n",
      "flatten_6 (Flatten)          (None, 128)               0         \n",
      "_________________________________________________________________\n",
      "dense_20 (Dense)             (None, 32)                4128      \n",
      "_________________________________________________________________\n",
      "dense_21 (Dense)             (None, 1)                 33        \n",
      "=================================================================\n",
      "Total params: 20,993\n",
      "Trainable params: 20,993\n",
      "Non-trainable params: 0\n",
      "_________________________________________________________________\n"
     ]
    }
   ],
   "source": [
    "# CNN Network\n",
    "model = keras.Sequential()\n",
    "\n",
    "# Input Layer\n",
    "model.add(keras.layers.Conv1D(filters=64, kernel_size=2, padding='same', activation='relu', \n",
    "                     input_shape=[feature_months, 2]))\n",
    "model.add(keras.layers.MaxPooling1D(pool_size=2))\n",
    "\n",
    "# Hidden Layers\n",
    "model.add(keras.layers.Conv1D(filters=128, kernel_size=2, activation='relu', padding='same'))\n",
    "model.add(keras.layers.MaxPooling1D(pool_size=2))\n",
    "\n",
    "\n",
    "\n",
    "# Output Layer\n",
    "model.add(keras.layers.Flatten())\n",
    "model.add(keras.layers.Dense(32, activation='relu'))\n",
    "model.add(keras.layers.Dense(1))\n",
    "\n",
    "model.compile(loss=\"mse\", optimizer='adam')\n",
    "\n",
    "model.summary()\n"
   ]
  },
  {
   "cell_type": "code",
   "execution_count": 67,
   "metadata": {},
   "outputs": [
    {
     "name": "stdout",
     "output_type": "stream",
     "text": [
      "Model: \"sequential_13\"\n",
      "_________________________________________________________________\n",
      "Layer (type)                 Output Shape              Param #   \n",
      "=================================================================\n",
      "lstm_6 (LSTM)                (None, 30)                3960      \n",
      "_________________________________________________________________\n",
      "dense_31 (Dense)             (None, 128)               3968      \n",
      "_________________________________________________________________\n",
      "dense_32 (Dense)             (None, 128)               16512     \n",
      "_________________________________________________________________\n",
      "dense_33 (Dense)             (None, 1)                 129       \n",
      "=================================================================\n",
      "Total params: 24,569\n",
      "Trainable params: 24,569\n",
      "Non-trainable params: 0\n",
      "_________________________________________________________________\n"
     ]
    }
   ],
   "source": [
    "# LSTM Network\n",
    "model = tf.keras.models.Sequential()\n",
    "\n",
    "# TODO: Specify the number of units you want your LSTM\n",
    "model.add(keras.layers.LSTM(units = 10, input_shape=(feature_months, 2)))\n",
    "\n",
    "# TODO: Optionally add one or more Dense or Convolutional layers\n",
    "model.add(keras.layers.Dense(128))\n",
    "model.add(keras.layers.Dense(128))\n",
    "\n",
    "# Output layer\n",
    "model.add(keras.layers.Dense(1))\n",
    "\n",
    "model.compile(loss=\"mse\", optimizer=keras.optimizers.Adam())\n",
    "model.summary()"
   ]
  },
  {
   "cell_type": "markdown",
   "metadata": {},
   "source": [
    "# Train your model"
   ]
  },
  {
   "cell_type": "code",
   "execution_count": 68,
   "metadata": {},
   "outputs": [
    {
     "name": "stdout",
     "output_type": "stream",
     "text": [
      "Epoch 1/100\n",
      "1/1 [==============================] - 2s 2s/step - loss: 0.0971\n",
      "Epoch 2/100\n",
      "1/1 [==============================] - 0s 7ms/step - loss: 0.0490\n",
      "Epoch 3/100\n",
      "1/1 [==============================] - 0s 72ms/step - loss: 0.0300\n",
      "Epoch 4/100\n",
      "1/1 [==============================] - 0s 107ms/step - loss: 0.0340\n",
      "Epoch 5/100\n",
      "1/1 [==============================] - 0s 110ms/step - loss: 0.0419\n",
      "Epoch 6/100\n",
      "1/1 [==============================] - 0s 106ms/step - loss: 0.0409\n",
      "Epoch 7/100\n",
      "1/1 [==============================] - 0s 94ms/step - loss: 0.0333\n",
      "Epoch 8/100\n",
      "1/1 [==============================] - 0s 130ms/step - loss: 0.0247\n",
      "Epoch 9/100\n",
      "1/1 [==============================] - 0s 108ms/step - loss: 0.0190\n",
      "Epoch 10/100\n",
      "1/1 [==============================] - 0s 105ms/step - loss: 0.0170\n",
      "Epoch 11/100\n",
      "1/1 [==============================] - 0s 110ms/step - loss: 0.0176\n",
      "Epoch 12/100\n",
      "1/1 [==============================] - 0s 118ms/step - loss: 0.0189\n",
      "Epoch 13/100\n",
      "1/1 [==============================] - 0s 100ms/step - loss: 0.0192\n",
      "Epoch 14/100\n",
      "1/1 [==============================] - 0s 100ms/step - loss: 0.0178\n",
      "Epoch 15/100\n",
      "1/1 [==============================] - 0s 123ms/step - loss: 0.0151\n",
      "Epoch 16/100\n",
      "1/1 [==============================] - 0s 106ms/step - loss: 0.0119\n",
      "Epoch 17/100\n",
      "1/1 [==============================] - 0s 104ms/step - loss: 0.0094\n",
      "Epoch 18/100\n",
      "1/1 [==============================] - 0s 121ms/step - loss: 0.0084\n",
      "Epoch 19/100\n",
      "1/1 [==============================] - 0s 99ms/step - loss: 0.0088\n",
      "Epoch 20/100\n",
      "1/1 [==============================] - 0s 125ms/step - loss: 0.0099\n",
      "Epoch 21/100\n",
      "1/1 [==============================] - 0s 118ms/step - loss: 0.0104\n",
      "Epoch 22/100\n",
      "1/1 [==============================] - 0s 75ms/step - loss: 0.0097\n",
      "Epoch 23/100\n",
      "1/1 [==============================] - 0s 106ms/step - loss: 0.0083\n",
      "Epoch 24/100\n",
      "1/1 [==============================] - 0s 114ms/step - loss: 0.0070\n",
      "Epoch 25/100\n",
      "1/1 [==============================] - 0s 106ms/step - loss: 0.0064\n",
      "Epoch 26/100\n",
      "1/1 [==============================] - 0s 112ms/step - loss: 0.0068\n",
      "Epoch 27/100\n",
      "1/1 [==============================] - 0s 120ms/step - loss: 0.0076\n",
      "Epoch 28/100\n",
      "1/1 [==============================] - 0s 95ms/step - loss: 0.0082\n",
      "Epoch 29/100\n",
      "1/1 [==============================] - 0s 105ms/step - loss: 0.0081\n",
      "Epoch 30/100\n",
      "1/1 [==============================] - 0s 112ms/step - loss: 0.0074\n",
      "Epoch 31/100\n",
      "1/1 [==============================] - 0s 124ms/step - loss: 0.0068\n",
      "Epoch 32/100\n",
      "1/1 [==============================] - 0s 105ms/step - loss: 0.0066\n",
      "Epoch 33/100\n",
      "1/1 [==============================] - 0s 102ms/step - loss: 0.0068\n",
      "Epoch 34/100\n",
      "1/1 [==============================] - 0s 109ms/step - loss: 0.0072\n",
      "Epoch 35/100\n",
      "1/1 [==============================] - 0s 116ms/step - loss: 0.0073\n"
     ]
    }
   ],
   "source": [
    "# We'll train for some epochs\n",
    "max_epochs = 100\n",
    "\n",
    "# Stop early if our Validation Loss stagnates\n",
    "early_stop = keras.callbacks.EarlyStopping(monitor='loss', patience=10)\n",
    "\n",
    "# Train our model\n",
    "history = model.fit_generator(training_generator, epochs = max_epochs,\n",
    "                   callbacks=[early_stop])"
   ]
  },
  {
   "cell_type": "markdown",
   "metadata": {},
   "source": [
    "# Evaluate your model\n",
    "With the model trained we can evaluate the model against our training data.\n",
    "\n",
    "__Note__: We only have 144 data points so our models are probably not going to be that accurate.\n",
    "\n",
    "## Exercise\n",
    "Look at the plot of the model loss during training; if the curve has shallowed out and not changing much then the model has probably reached it's limit of learning. If not continue to train the model for more epochs.\n"
   ]
  },
  {
   "cell_type": "code",
   "execution_count": 69,
   "metadata": {},
   "outputs": [
    {
     "data": {
      "image/png": "[encoded data removed]",
      "text/plain": [
       "<Figure size 432x288 with 1 Axes>"
      ]
     },
     "metadata": {
      "needs_background": "light"
     },
     "output_type": "display_data"
    }
   ],
   "source": [
    "printLoss(history)"
   ]
  },
  {
   "cell_type": "markdown",
   "metadata": {},
   "source": [
    "## Exercise\n",
    "We can now run our model against the previously unseen error and get a measure of how good the model is (Mean Squared Error). \n",
    "\n",
    "While this may look small we have to remember that we normalised the data to the range 0-1"
   ]
  },
  {
   "cell_type": "code",
   "execution_count": 70,
   "metadata": {},
   "outputs": [
    {
     "data": {
      "text/plain": [
       "0.028634535148739815"
      ]
     },
     "execution_count": 70,
     "metadata": {},
     "output_type": "execute_result"
    }
   ],
   "source": [
    "# Evaluate\n",
    "model.evaluate_generator(testing_generator)"
   ]
  },
  {
   "cell_type": "markdown",
   "metadata": {},
   "source": [
    "# Comparing Predicted and Actual forecast\n",
    "Let's now plot our predicted values against the actual values.\n",
    "\n",
    "Before we can do this we need to extract some values from our testing generator"
   ]
  },
  {
   "cell_type": "code",
   "execution_count": 71,
   "metadata": {},
   "outputs": [
    {
     "data": {
      "image/png": "[encoded data removed]",
      "text/plain": [
       "<Figure size 720x432 with 1 Axes>"
      ]
     },
     "metadata": {
      "needs_background": "light"
     },
     "output_type": "display_data"
    }
   ],
   "source": [
    "# Make predictions\n",
    "y_pred_test = model.predict(testing_generator)\n",
    "y_actual = get_y_from_generator(testing_generator)\n",
    "\n",
    "\n",
    "# Plot graph of predictions vs actual\n",
    "plt.figure(figsize=(10, 6))\n",
    "plt.plot(y_actual, label='Actual')\n",
    "plt.plot(y_pred_test, label='Prediction')\n",
    "plt.title(\"Prediction\")\n",
    "plt.xlabel('Observation')\n",
    "plt.ylabel('Value')\n",
    "plt.legend()\n",
    "plt.show();"
   ]
  },
  {
   "cell_type": "code",
   "execution_count": null,
   "metadata": {},
   "outputs": [],
   "source": []
  },
  {
   "cell_type": "code",
   "execution_count": null,
   "metadata": {},
   "outputs": [],
   "source": []
  }
 ],
 "metadata": {
  "kernelspec": {
   "display_name": "Python 3",
   "language": "python",
   "name": "python3"
  },
  "language_info": {
   "codemirror_mode": {
    "name": "ipython",
    "version": 3
   },
   "file_extension": ".py",
   "mimetype": "text/x-python",
   "name": "python",
   "nbconvert_exporter": "python",
   "pygments_lexer": "ipython3",
   "version": "3.7.3"
  }
 },
 "nbformat": 4,
 "nbformat_minor": 2
}

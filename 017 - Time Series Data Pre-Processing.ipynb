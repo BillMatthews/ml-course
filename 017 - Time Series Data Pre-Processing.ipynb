{
 "cells": [
  {
   "cell_type": "markdown",
   "metadata": {},
   "source": [
    "# Time Series Data Preprocessing\n",
    "This workbook introduces you to the concept of Time Series Data and how we can pre-process such data to reframe it to a Supervised Learning problem.\n"
   ]
  },
  {
   "cell_type": "markdown",
   "metadata": {},
   "source": [
    "## What is Time Series Data\n",
    "Time Series Data is a series of data points ordered in time. Time Series data can have some interesting properties such as:\n",
    "\n",
    "__Trends__ where there is a general increase, decrease or steady state to the values over time or during period. An example of this might be the graph of the FTSE 100 share index which generally shows an upward trend.\n",
    " \n",
    " __Seasonality__ where there are distinct periodic fluctuations with similar pattersn. An example of this might be the mean daily temperature over a 5 year period would likely show regular period of increased temperatures occuring during summer periods.\n",
    "\n",
    "Some more details about Time Series Data can be found at https://towardsdatascience.com/almost-everything-you-need-to-know-about-time-series-860241bdc578\n"
   ]
  },
  {
   "cell_type": "markdown",
   "metadata": {},
   "source": [
    "## Why is Time Series Data interesting?\n",
    "Data that forms Time Series is of interest since it can be used to forecast future events. For example:\n",
    " - if we can reliabily forecast the price of a stock from recent historical data then we can potentially make money\n",
    " - if we can forecast where a hurricane will make landfall then we can make preprations and save lives.\n",
    " \n",
    " Each of these examples, has value and it is likely that the historical data is a good indicator for a future forecast.\n",
    " \n",
    " ### Exercise\n",
    " In your teams, list out some examples of Time Series Data where you think it might be valuable to be able to forecast future values (such as the two given above). \n",
    " \n",
    " For the 2 most interesting datasets consider:\n",
    " - What is the value in being able to forecast future values/events for this dataset?\n",
    " - What data is likely to be related to the time-series that might help with a forecast?  \n",
    "     - For example, in stock market prediction, historical stock info could be suplemented with stock market prices of related stocks or indexes such as the FTSE 100.\n",
    " "
   ]
  },
  {
   "cell_type": "markdown",
   "metadata": {},
   "source": [
    "# Reframing Time Series Forecasting as a Supervised Learning Problem\n",
    "When using Supervised Learning, we generally have a set of related inputs (a training sample) and an expected output (target).\n",
    "\n",
    "A Time-Series is a sequence of values that occur over a time period taken at regular intervals; what we are attempting to do is predict the next item in the sequence based on the previous values.\n",
    "\n",
    "An example of a Time Series Data might be the following (passenger number per month in thousands:\n",
    "\n",
    "112, 118, 132, 129, 121, 135, 148, 148, 136, 119\n",
    "\n",
    "This data isn't really in a form that we can readily use for our machine learning models\n"
   ]
  },
  {
   "cell_type": "markdown",
   "metadata": {},
   "source": [
    "## Exercise\n",
    "Think about the way we construct our data for Prediction and Classification tasks; we have our training samples (X) that contains a set of features and we have our targets (y) that contains the target value for the feature. We want our model to learn a mapping between the training sample(s) and the associated target.\n",
    "\n",
    "Now consider the following time-series sequence:\n",
    "\n",
    "__112, 118, 132, 129, 121, 135, 148, 148, 136, 119__\n",
    "\n",
    "In your groups consider how you can construct, from this sequence data that is suitable for machine learning based on the following scenarios - for each list out the training data you would create.\n",
    "\n",
    "List out the dataset you would create to train a model to:\n",
    "- predict the next item in the sequence based on the previous 2 items\n",
    "    - e.g. given 112 and 118 we need to predict 132\n",
    "- predict the next 2 items in the sequence based on the previous 2\n",
    "    - e.g. given 112 and 118 we need to preduct 123 and 129\n",
    "- predict the item 2 places ahead in the sequence based on the previous 2\n",
    "    - e.g. given 112 and 118 we need to predict 129\n",
    "\n",
    "Remember you need a set training samples consisting of X-data (the features) and the corresponding y-data (the target we are trying to predict/forecast."
   ]
  },
  {
   "cell_type": "markdown",
   "metadata": {},
   "source": [
    "# Reframing Data using a TimeSeriesGenerator\n",
    "Until recently, we would have had to create custom functions to reframe our timeseries data into a suitable form but thankfully with Keras, we can use a __TimeSeriesGenerator__.\n",
    "\n",
    "The TimeSeriesGenerator takes our input sequence(s) and uses them to provide training samples. It's doesn't change the original data but instead uses it to form a dataset suitable for Supervised learning.\n",
    "\n",
    "We can create a generator using `generator = TimeseriesGenerator()` and specify a set of parameters to construct how the data is produced. These parameters include:\n",
    "- __data__ - this is the sequence that is to be predicted that covers a time-period\n",
    "- __targets__ - this is the target data sequence. \n",
    "    - this sequence should cover the same time period as the _data_ and be aligned (i.e. _data_ at position 1 should have the corresponding target at _targets_ position 1\n",
    "    - If our targets are part of the _data_ we just provide the same sequence again, otherwise we provide the target sequence.\n",
    "- __length__: Length of the output sequences (in number of timesteps).\n",
    "- __sampling_rate__: Period between successive individual timesteps within sequences.\n",
    "- __stride__: Period between successive output sequences.\n",
    "\n",
    "Full Details about the TimeSeriesGenerator can be found at https://keras.io/preprocessing/sequence/#timeseriesgenerator\n"
   ]
  },
  {
   "cell_type": "markdown",
   "metadata": {},
   "source": [
    "# Let's see the TimeSeriesGenerator in action\n",
    "We are now going to see the TimeSeriesGenerator in action against a simple dataset.\n",
    "\n",
    "We will use the 3 scenarios you considered earlier as examples. These were:\n",
    "- predict the next item in the sequence based on the previous 2 items\n",
    "    - e.g. given 112 and 118 we need to predict 132\n",
    "- predict the next 2 items in the sequence based on the previous 2\n",
    "    - e.g. given 112 and 118 we need to preduct 123 and 129\n",
    "- predict the item 2 places ahead in the sequence based on the previous 2\n",
    "    - e.g. given 112 and 118 we need to predict 129"
   ]
  },
  {
   "cell_type": "code",
   "execution_count": null,
   "metadata": {},
   "outputs": [],
   "source": [
    "# Import some packages we will need\n",
    "import pandas\n",
    "import matplotlib.pyplot as plt\n",
    "import numpy as np\n",
    "import tensorflow as tf\n",
    "from tensorflow import keras\n",
    "\n",
    "# This imports the TimeseriesGenerator package\n",
    "from tensorflow.keras.preprocessing.sequence import TimeseriesGenerator\n"
   ]
  },
  {
   "cell_type": "code",
   "execution_count": null,
   "metadata": {},
   "outputs": [],
   "source": [
    "# Useful functions\n",
    "def print_timeseries(generator):\n",
    "    for i in range(len(generator[0][0])):\n",
    "        x = generator[0][0][i]\n",
    "        \n",
    "        y = generator[0][1][i]\n",
    "        \n",
    "        print(\"[%s] => [%s]\" % (x, y))\n",
    "\n",
    "def create_target_series_for_generator(data, skip_output=0, output_length=1):\n",
    "    # The Generator will deal selecting the next in the sequence\n",
    "    # but if our predictions are skiping steps we need to shift our data a bit\n",
    "    shifted_data = data[skip_output:]\n",
    "   \n",
    "    # Now we loop through this shifted data set and collect sucessive  pairs\n",
    "    # and add them to our target_seq\n",
    "    target_seq = []\n",
    "    # Stop before we run out of output groups\n",
    "    pairs = len(shifted_data) - output_length\n",
    "    for i in range(pairs):\n",
    "        item = []\n",
    "        for j in range(output_length):\n",
    "            item.append(shifted_data[i+j])\n",
    "        target_seq.append(item)\n",
    "    return target_seq"
   ]
  },
  {
   "cell_type": "code",
   "execution_count": null,
   "metadata": {},
   "outputs": [],
   "source": [
    "# Import some sample data\n",
    "dataset = pandas.read_csv('https://github.com/BillMatthews/ml-course/blob/master/airline-passengers.csv?raw=true', \n",
    "                          usecols=[1], engine='python')\n",
    "# Extract the data\n",
    "data = dataset.values\n",
    "data = data.astype('float32')\n",
    "data = np.concatenate(data)\n",
    "\n",
    "dataset.head()"
   ]
  },
  {
   "cell_type": "code",
   "execution_count": null,
   "metadata": {},
   "outputs": [],
   "source": [
    "plt.plot(dataset)\n",
    "plt.show()\n",
    "# Note the Seasonality and Trend in the data"
   ]
  },
  {
   "cell_type": "markdown",
   "metadata": {},
   "source": [
    "Let's print out the first 10 data points"
   ]
  },
  {
   "cell_type": "code",
   "execution_count": null,
   "metadata": {},
   "outputs": [],
   "source": [
    "print(data[0:10])"
   ]
  },
  {
   "cell_type": "markdown",
   "metadata": {},
   "source": [
    "## Scenario 1\n",
    "Predict the next item in the sequence based on the previous 2 items. For example given 112 and 118 we need to predict 132\n",
    "\n",
    "__Key Points to consider__\n",
    "* Since we only have 1 timeseries and the data and targets come from this sequence, we provide our data as the value to both the __data__ and __targets__ parameters\n",
    "* We are predicting based on the previous 2 items so our __length__ is 2\n",
    "\n",
    "The original sequnce was:\n",
    "\n",
    "__112, 118, 132, 129, 121, 135, 148, 148, 136, 119__"
   ]
  },
  {
   "cell_type": "code",
   "execution_count": null,
   "metadata": {},
   "outputs": [],
   "source": [
    "s1_generator = TimeseriesGenerator (data = data[:10],\n",
    "                                    targets = data[:10],\n",
    "                                    length = 2)\n",
    "\n",
    "        \n",
    "print_timeseries(s1_generator)"
   ]
  },
  {
   "cell_type": "markdown",
   "metadata": {},
   "source": [
    "## Scenario 2\n",
    "Predict the next 2 items in the sequence based on the previous 2. For example given 112 and 118 we need to preduct 123 and 129\n",
    "\n",
    "__Key Points to consider__\n",
    "* Given we want to output 2 values for our target we can't re-use our data as the target (since it only has one item at each timestep). We therefore need to construct a new target dataset.\n",
    "* We are predicting based on the previous 2 items so our __length__ is 2\n",
    "\n",
    "The original sequnce was:\n",
    "\n",
    "__112, 118, 132, 129, 121, 135, 148, 148, 136, 119__"
   ]
  },
  {
   "cell_type": "code",
   "execution_count": null,
   "metadata": {},
   "outputs": [],
   "source": [
    "# Create the new target sequence\n",
    "target_seq = []\n",
    "# Since we are predicting the next 2 items in a sequnce we don't need to shift the data\n",
    "# so can just loop through the data and collect the pairs of values\n",
    "# However, we need to stop short before we reach the end as the last value in our data\n",
    "# won't have a pair\n",
    "for i in range(len(data) - 1):\n",
    "    target_seq.append([data[i], data[i+1]])\n",
    "    \n",
    "print(target_seq[:10])\n",
    "# We can now create our TimeSeriesGenerator\n",
    "s2_generator = TimeseriesGenerator (data = data[:10],\n",
    "                                    targets = target_seq[:10],\n",
    "                                    length = 2)\n",
    "\n",
    "        \n",
    "print_timeseries(s2_generator)"
   ]
  },
  {
   "cell_type": "markdown",
   "metadata": {},
   "source": [
    "## Scenario 3\n",
    "Predict the item 2 places ahead in the sequence based on the previous 2. For example given 112 and 118 we need to predict 129\n",
    "__Key Points to consider__\n",
    "* Since we are now predicting values out of sequence we need to create a new sequence for _targets_\n",
    "* We are predicting based on the previous 2 items so our __length__ is 2\n",
    "* We want to step over the next item in the sequence to predict the following one so our __stride__ is 1\n",
    "\n",
    "The original sequnce was:\n",
    "\n",
    "__112, 118, 132, 129, 121, 135, 148, 148, 136, 119__"
   ]
  },
  {
   "cell_type": "code",
   "execution_count": null,
   "metadata": {},
   "outputs": [],
   "source": [
    "# We are stepping 2 places along the sequence\n",
    "# The Generator will deal with a single step\n",
    "# So we need to shift our data by a further 1 step\n",
    "# so the Generator pick-ups the correct item\n",
    "target_seq = data[1:]\n",
    "\n",
    "s3_generator = TimeseriesGenerator (data = data[:10],\n",
    "                                    targets = target_seq[:10],\n",
    "                                    length = 2)\n",
    "\n",
    "print_timeseries(s3_generator)"
   ]
  },
  {
   "cell_type": "markdown",
   "metadata": {},
   "source": [
    "# Execise\n",
    "We have seen examples of how to prepare time-series data and how we can create TimeseriesGenerators to feed our learning model.\n",
    "\n",
    "We have created a function that allows you to create your target sequences without writting code. The function is called `create_target_series_for_generator()` which takes the following parameters:\n",
    "- __data__: the timeseries data used as your target source. This is usually you source data\n",
    "- __skip_output__: indicates how many items to skip forward. If you just want the next item as normal then omit this parameter as it is optional and defaults to 0\n",
    "- __output_length__: indictes the number of items in the output grouping you want. If you just one 1 value for each target then this can be omitted as it is optional and defaults to 1\n",
    "\n",
    "Before moving on, use the following cell to experiment with different options for the Timeseries data to be sure that understand how to create timeseries data.\n",
    "\n",
    "For reference, the original data starts with the following sequence:\n",
    "\n",
    "__112, 118, 132, 129, 121, 135, 148, 148, 136, 119__"
   ]
  },
  {
   "cell_type": "code",
   "execution_count": null,
   "metadata": {},
   "outputs": [],
   "source": [
    "target_seq = create_target_series_for_generator(data = data, \n",
    "                                                skip_output=0,\n",
    "                                                output_length = 1)\n",
    "\n",
    "my_generator = TimeseriesGenerator (data = data[:10],\n",
    "                                    targets = target_seq[:10],\n",
    "                                    length = 2)\n",
    "# 112, 118, 132, 129, 121, 135, 148, 148, 136, 119\n",
    "print_timeseries(my_generator)"
   ]
  },
  {
   "cell_type": "markdown",
   "metadata": {},
   "source": [
    "# Creating Training and Testing Data sets\n",
    "In previous models we created Training and Testing Datasets by spliting the available data into 2 - usually with 20% of the data being reserved for Testing and 80% for training.\n",
    "\n",
    "The splits we created were random in nature since each training sample was independent. With our Time Series data the data is linked in that they form a sequence of values where a value in the sequence is expected to have some dependency on previous values.\n",
    "\n",
    "## Exercise\n",
    "Disucss in your teams the following questions:\n",
    "- What do you think will happen to our Time Series if we split the data randomly like we do with Image and Text training Samples?\n",
    "- How could we split a Time Series to preserve it as a time series?\n",
    "- What key features should we consider when deciding to split our time-series?"
   ]
  },
  {
   "cell_type": "code",
   "execution_count": null,
   "metadata": {},
   "outputs": [],
   "source": []
  }
 ],
 "metadata": {
  "kernelspec": {
   "display_name": "Python 3",
   "language": "python",
   "name": "python3"
  },
  "language_info": {
   "codemirror_mode": {
    "name": "ipython",
    "version": 3
   },
   "file_extension": ".py",
   "mimetype": "text/x-python",
   "name": "python",
   "nbconvert_exporter": "python",
   "pygments_lexer": "ipython3",
   "version": "3.7.3"
  }
 },
 "nbformat": 4,
 "nbformat_minor": 2
}
